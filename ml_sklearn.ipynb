{
 "cells": [
  {
   "cell_type": "markdown",
   "id": "d8c35bba-f465-44f1-b9a4-d43f9e19c300",
   "metadata": {},
   "source": [
    "# Machine Learning with Scikit-Learn"
   ]
  },
  {
   "cell_type": "code",
   "execution_count": 1,
   "id": "3b3a2d15-a9d4-45c7-a77f-32448b5bcc37",
   "metadata": {},
   "outputs": [],
   "source": [
    "import pandas as pd\n",
    "import numpy as np\n",
    "import matplotlib.pyplot as plt\n",
    "import seaborn as sns\n",
    "import warnings\n",
    "plt.style.use(\"ggplot\")\n",
    "warnings.filterwarnings(\"ignore\")\n",
    "%matplotlib inline"
   ]
  },
  {
   "cell_type": "code",
   "execution_count": 2,
   "id": "cd6ac420-88ee-4d87-8d1c-c2c41983f3c7",
   "metadata": {},
   "outputs": [],
   "source": [
    "# column names for the dataset\n",
    "names = [\"party\", \"infants\", \"water\", \"budget\", \"physician\", \"salvador\", \"religious\", \"satellite\", \"aid\", \"missile\", \n",
    "         \"immigration\", \"synfuels\", \"education\", \"superfund\", \"crime\", \"duty_free_exports\", \"eaa_rsa\"]"
   ]
  },
  {
   "cell_type": "code",
   "execution_count": 3,
   "id": "f815571e-2607-4f17-b852-830ee6e8797d",
   "metadata": {},
   "outputs": [],
   "source": [
    "# load the data\n",
    "df_voting = pd.read_csv(\"https://archive.ics.uci.edu/ml/machine-learning-databases/voting-records/house-votes-84.data\", names=names)"
   ]
  },
  {
   "cell_type": "code",
   "execution_count": 4,
   "id": "833a1afc-1a38-4367-be48-ea8e5cf5f986",
   "metadata": {},
   "outputs": [
    {
     "data": {
      "text/html": [
       "<div>\n",
       "<style scoped>\n",
       "    .dataframe tbody tr th:only-of-type {\n",
       "        vertical-align: middle;\n",
       "    }\n",
       "\n",
       "    .dataframe tbody tr th {\n",
       "        vertical-align: top;\n",
       "    }\n",
       "\n",
       "    .dataframe thead th {\n",
       "        text-align: right;\n",
       "    }\n",
       "</style>\n",
       "<table border=\"1\" class=\"dataframe\">\n",
       "  <thead>\n",
       "    <tr style=\"text-align: right;\">\n",
       "      <th></th>\n",
       "      <th>party</th>\n",
       "      <th>infants</th>\n",
       "      <th>water</th>\n",
       "      <th>budget</th>\n",
       "      <th>physician</th>\n",
       "      <th>salvador</th>\n",
       "      <th>religious</th>\n",
       "      <th>satellite</th>\n",
       "      <th>aid</th>\n",
       "      <th>missile</th>\n",
       "      <th>immigration</th>\n",
       "      <th>synfuels</th>\n",
       "      <th>education</th>\n",
       "      <th>superfund</th>\n",
       "      <th>crime</th>\n",
       "      <th>duty_free_exports</th>\n",
       "      <th>eaa_rsa</th>\n",
       "    </tr>\n",
       "  </thead>\n",
       "  <tbody>\n",
       "    <tr>\n",
       "      <th>0</th>\n",
       "      <td>republican</td>\n",
       "      <td>n</td>\n",
       "      <td>y</td>\n",
       "      <td>n</td>\n",
       "      <td>y</td>\n",
       "      <td>y</td>\n",
       "      <td>y</td>\n",
       "      <td>n</td>\n",
       "      <td>n</td>\n",
       "      <td>n</td>\n",
       "      <td>y</td>\n",
       "      <td>?</td>\n",
       "      <td>y</td>\n",
       "      <td>y</td>\n",
       "      <td>y</td>\n",
       "      <td>n</td>\n",
       "      <td>y</td>\n",
       "    </tr>\n",
       "    <tr>\n",
       "      <th>1</th>\n",
       "      <td>republican</td>\n",
       "      <td>n</td>\n",
       "      <td>y</td>\n",
       "      <td>n</td>\n",
       "      <td>y</td>\n",
       "      <td>y</td>\n",
       "      <td>y</td>\n",
       "      <td>n</td>\n",
       "      <td>n</td>\n",
       "      <td>n</td>\n",
       "      <td>n</td>\n",
       "      <td>n</td>\n",
       "      <td>y</td>\n",
       "      <td>y</td>\n",
       "      <td>y</td>\n",
       "      <td>n</td>\n",
       "      <td>?</td>\n",
       "    </tr>\n",
       "    <tr>\n",
       "      <th>2</th>\n",
       "      <td>democrat</td>\n",
       "      <td>?</td>\n",
       "      <td>y</td>\n",
       "      <td>y</td>\n",
       "      <td>?</td>\n",
       "      <td>y</td>\n",
       "      <td>y</td>\n",
       "      <td>n</td>\n",
       "      <td>n</td>\n",
       "      <td>n</td>\n",
       "      <td>n</td>\n",
       "      <td>y</td>\n",
       "      <td>n</td>\n",
       "      <td>y</td>\n",
       "      <td>y</td>\n",
       "      <td>n</td>\n",
       "      <td>n</td>\n",
       "    </tr>\n",
       "    <tr>\n",
       "      <th>3</th>\n",
       "      <td>democrat</td>\n",
       "      <td>n</td>\n",
       "      <td>y</td>\n",
       "      <td>y</td>\n",
       "      <td>n</td>\n",
       "      <td>?</td>\n",
       "      <td>y</td>\n",
       "      <td>n</td>\n",
       "      <td>n</td>\n",
       "      <td>n</td>\n",
       "      <td>n</td>\n",
       "      <td>y</td>\n",
       "      <td>n</td>\n",
       "      <td>y</td>\n",
       "      <td>n</td>\n",
       "      <td>n</td>\n",
       "      <td>y</td>\n",
       "    </tr>\n",
       "    <tr>\n",
       "      <th>4</th>\n",
       "      <td>democrat</td>\n",
       "      <td>y</td>\n",
       "      <td>y</td>\n",
       "      <td>y</td>\n",
       "      <td>n</td>\n",
       "      <td>y</td>\n",
       "      <td>y</td>\n",
       "      <td>n</td>\n",
       "      <td>n</td>\n",
       "      <td>n</td>\n",
       "      <td>n</td>\n",
       "      <td>y</td>\n",
       "      <td>?</td>\n",
       "      <td>y</td>\n",
       "      <td>y</td>\n",
       "      <td>y</td>\n",
       "      <td>y</td>\n",
       "    </tr>\n",
       "  </tbody>\n",
       "</table>\n",
       "</div>"
      ],
      "text/plain": [
       "        party infants water budget physician salvador religious satellite aid  \\\n",
       "0  republican       n     y      n         y        y         y         n   n   \n",
       "1  republican       n     y      n         y        y         y         n   n   \n",
       "2    democrat       ?     y      y         ?        y         y         n   n   \n",
       "3    democrat       n     y      y         n        ?         y         n   n   \n",
       "4    democrat       y     y      y         n        y         y         n   n   \n",
       "\n",
       "  missile immigration synfuels education superfund crime duty_free_exports  \\\n",
       "0       n           y        ?         y         y     y                 n   \n",
       "1       n           n        n         y         y     y                 n   \n",
       "2       n           n        y         n         y     y                 n   \n",
       "3       n           n        y         n         y     n                 n   \n",
       "4       n           n        y         ?         y     y                 y   \n",
       "\n",
       "  eaa_rsa  \n",
       "0       y  \n",
       "1       ?  \n",
       "2       n  \n",
       "3       y  \n",
       "4       y  "
      ]
     },
     "execution_count": 4,
     "metadata": {},
     "output_type": "execute_result"
    }
   ],
   "source": [
    "# check the dataframe\n",
    "df_voting.head()"
   ]
  },
  {
   "cell_type": "markdown",
   "id": "6d3f9c03-1c27-4217-8507-29151115973a",
   "metadata": {},
   "source": [
    "## Exploratory Data Analysis"
   ]
  },
  {
   "cell_type": "markdown",
   "id": "2c09dca9-1a6b-46cb-8666-6026eeec2746",
   "metadata": {},
   "source": [
    "### Numerical EDA"
   ]
  },
  {
   "cell_type": "code",
   "execution_count": 5,
   "id": "57c21b36-1828-4208-976a-e0360891cdb2",
   "metadata": {},
   "outputs": [
    {
     "data": {
      "text/plain": [
       "(435, 17)"
      ]
     },
     "execution_count": 5,
     "metadata": {},
     "output_type": "execute_result"
    }
   ],
   "source": [
    "# check the shape of dataframe\n",
    "df_voting.shape"
   ]
  },
  {
   "cell_type": "code",
   "execution_count": 6,
   "id": "df9f4ac3-4670-41f2-a554-856305199df2",
   "metadata": {},
   "outputs": [
    {
     "name": "stdout",
     "output_type": "stream",
     "text": [
      "<class 'pandas.core.frame.DataFrame'>\n",
      "RangeIndex: 435 entries, 0 to 434\n",
      "Data columns (total 17 columns):\n",
      " #   Column             Non-Null Count  Dtype \n",
      "---  ------             --------------  ----- \n",
      " 0   party              435 non-null    object\n",
      " 1   infants            435 non-null    object\n",
      " 2   water              435 non-null    object\n",
      " 3   budget             435 non-null    object\n",
      " 4   physician          435 non-null    object\n",
      " 5   salvador           435 non-null    object\n",
      " 6   religious          435 non-null    object\n",
      " 7   satellite          435 non-null    object\n",
      " 8   aid                435 non-null    object\n",
      " 9   missile            435 non-null    object\n",
      " 10  immigration        435 non-null    object\n",
      " 11  synfuels           435 non-null    object\n",
      " 12  education          435 non-null    object\n",
      " 13  superfund          435 non-null    object\n",
      " 14  crime              435 non-null    object\n",
      " 15  duty_free_exports  435 non-null    object\n",
      " 16  eaa_rsa            435 non-null    object\n",
      "dtypes: object(17)\n",
      "memory usage: 57.9+ KB\n"
     ]
    }
   ],
   "source": [
    "# check basic information about the dataframe\n",
    "df_voting.info()"
   ]
  },
  {
   "cell_type": "code",
   "execution_count": 7,
   "id": "bf55a393-e53e-49df-9b2f-d51287238773",
   "metadata": {},
   "outputs": [
    {
     "data": {
      "text/html": [
       "<div>\n",
       "<style scoped>\n",
       "    .dataframe tbody tr th:only-of-type {\n",
       "        vertical-align: middle;\n",
       "    }\n",
       "\n",
       "    .dataframe tbody tr th {\n",
       "        vertical-align: top;\n",
       "    }\n",
       "\n",
       "    .dataframe thead th {\n",
       "        text-align: right;\n",
       "    }\n",
       "</style>\n",
       "<table border=\"1\" class=\"dataframe\">\n",
       "  <thead>\n",
       "    <tr style=\"text-align: right;\">\n",
       "      <th></th>\n",
       "      <th>party</th>\n",
       "      <th>infants</th>\n",
       "      <th>water</th>\n",
       "      <th>budget</th>\n",
       "      <th>physician</th>\n",
       "      <th>salvador</th>\n",
       "      <th>religious</th>\n",
       "      <th>satellite</th>\n",
       "      <th>aid</th>\n",
       "      <th>missile</th>\n",
       "      <th>immigration</th>\n",
       "      <th>synfuels</th>\n",
       "      <th>education</th>\n",
       "      <th>superfund</th>\n",
       "      <th>crime</th>\n",
       "      <th>duty_free_exports</th>\n",
       "      <th>eaa_rsa</th>\n",
       "    </tr>\n",
       "  </thead>\n",
       "  <tbody>\n",
       "    <tr>\n",
       "      <th>0</th>\n",
       "      <td>republican</td>\n",
       "      <td>0.0</td>\n",
       "      <td>1.0</td>\n",
       "      <td>0.0</td>\n",
       "      <td>1.0</td>\n",
       "      <td>1.0</td>\n",
       "      <td>1.0</td>\n",
       "      <td>0.0</td>\n",
       "      <td>0.0</td>\n",
       "      <td>0.0</td>\n",
       "      <td>1.0</td>\n",
       "      <td>NaN</td>\n",
       "      <td>1.0</td>\n",
       "      <td>1.0</td>\n",
       "      <td>1.0</td>\n",
       "      <td>0.0</td>\n",
       "      <td>1.0</td>\n",
       "    </tr>\n",
       "    <tr>\n",
       "      <th>1</th>\n",
       "      <td>republican</td>\n",
       "      <td>0.0</td>\n",
       "      <td>1.0</td>\n",
       "      <td>0.0</td>\n",
       "      <td>1.0</td>\n",
       "      <td>1.0</td>\n",
       "      <td>1.0</td>\n",
       "      <td>0.0</td>\n",
       "      <td>0.0</td>\n",
       "      <td>0.0</td>\n",
       "      <td>0.0</td>\n",
       "      <td>0.0</td>\n",
       "      <td>1.0</td>\n",
       "      <td>1.0</td>\n",
       "      <td>1.0</td>\n",
       "      <td>0.0</td>\n",
       "      <td>NaN</td>\n",
       "    </tr>\n",
       "    <tr>\n",
       "      <th>2</th>\n",
       "      <td>democrat</td>\n",
       "      <td>NaN</td>\n",
       "      <td>1.0</td>\n",
       "      <td>1.0</td>\n",
       "      <td>NaN</td>\n",
       "      <td>1.0</td>\n",
       "      <td>1.0</td>\n",
       "      <td>0.0</td>\n",
       "      <td>0.0</td>\n",
       "      <td>0.0</td>\n",
       "      <td>0.0</td>\n",
       "      <td>1.0</td>\n",
       "      <td>0.0</td>\n",
       "      <td>1.0</td>\n",
       "      <td>1.0</td>\n",
       "      <td>0.0</td>\n",
       "      <td>0.0</td>\n",
       "    </tr>\n",
       "    <tr>\n",
       "      <th>3</th>\n",
       "      <td>democrat</td>\n",
       "      <td>0.0</td>\n",
       "      <td>1.0</td>\n",
       "      <td>1.0</td>\n",
       "      <td>0.0</td>\n",
       "      <td>NaN</td>\n",
       "      <td>1.0</td>\n",
       "      <td>0.0</td>\n",
       "      <td>0.0</td>\n",
       "      <td>0.0</td>\n",
       "      <td>0.0</td>\n",
       "      <td>1.0</td>\n",
       "      <td>0.0</td>\n",
       "      <td>1.0</td>\n",
       "      <td>0.0</td>\n",
       "      <td>0.0</td>\n",
       "      <td>1.0</td>\n",
       "    </tr>\n",
       "    <tr>\n",
       "      <th>4</th>\n",
       "      <td>democrat</td>\n",
       "      <td>1.0</td>\n",
       "      <td>1.0</td>\n",
       "      <td>1.0</td>\n",
       "      <td>0.0</td>\n",
       "      <td>1.0</td>\n",
       "      <td>1.0</td>\n",
       "      <td>0.0</td>\n",
       "      <td>0.0</td>\n",
       "      <td>0.0</td>\n",
       "      <td>0.0</td>\n",
       "      <td>1.0</td>\n",
       "      <td>NaN</td>\n",
       "      <td>1.0</td>\n",
       "      <td>1.0</td>\n",
       "      <td>1.0</td>\n",
       "      <td>1.0</td>\n",
       "    </tr>\n",
       "  </tbody>\n",
       "</table>\n",
       "</div>"
      ],
      "text/plain": [
       "        party  infants  water  budget  physician  salvador  religious  \\\n",
       "0  republican      0.0    1.0     0.0        1.0       1.0        1.0   \n",
       "1  republican      0.0    1.0     0.0        1.0       1.0        1.0   \n",
       "2    democrat      NaN    1.0     1.0        NaN       1.0        1.0   \n",
       "3    democrat      0.0    1.0     1.0        0.0       NaN        1.0   \n",
       "4    democrat      1.0    1.0     1.0        0.0       1.0        1.0   \n",
       "\n",
       "   satellite  aid  missile  immigration  synfuels  education  superfund  \\\n",
       "0        0.0  0.0      0.0          1.0       NaN        1.0        1.0   \n",
       "1        0.0  0.0      0.0          0.0       0.0        1.0        1.0   \n",
       "2        0.0  0.0      0.0          0.0       1.0        0.0        1.0   \n",
       "3        0.0  0.0      0.0          0.0       1.0        0.0        1.0   \n",
       "4        0.0  0.0      0.0          0.0       1.0        NaN        1.0   \n",
       "\n",
       "   crime  duty_free_exports  eaa_rsa  \n",
       "0    1.0                0.0      1.0  \n",
       "1    1.0                0.0      NaN  \n",
       "2    1.0                0.0      0.0  \n",
       "3    0.0                0.0      1.0  \n",
       "4    1.0                1.0      1.0  "
      ]
     },
     "execution_count": 7,
     "metadata": {},
     "output_type": "execute_result"
    }
   ],
   "source": [
    "# replace 'n' with 0, 'y' with 1 and '?' with nan\n",
    "df = df_voting.replace(\"n\", 0)\n",
    "df.replace(\"y\", 1, inplace=True)\n",
    "df.replace(\"?\", np.nan, inplace=True)\n",
    "\n",
    "df.head()"
   ]
  },
  {
   "cell_type": "code",
   "execution_count": 8,
   "id": "bf2ba3cb-f085-44d9-91bb-9e9a2397b5aa",
   "metadata": {},
   "outputs": [
    {
     "data": {
      "text/html": [
       "<div>\n",
       "<style scoped>\n",
       "    .dataframe tbody tr th:only-of-type {\n",
       "        vertical-align: middle;\n",
       "    }\n",
       "\n",
       "    .dataframe tbody tr th {\n",
       "        vertical-align: top;\n",
       "    }\n",
       "\n",
       "    .dataframe thead th {\n",
       "        text-align: right;\n",
       "    }\n",
       "</style>\n",
       "<table border=\"1\" class=\"dataframe\">\n",
       "  <thead>\n",
       "    <tr style=\"text-align: right;\">\n",
       "      <th></th>\n",
       "      <th>party</th>\n",
       "      <th>infants</th>\n",
       "      <th>water</th>\n",
       "      <th>budget</th>\n",
       "      <th>physician</th>\n",
       "      <th>salvador</th>\n",
       "      <th>religious</th>\n",
       "      <th>satellite</th>\n",
       "      <th>aid</th>\n",
       "      <th>missile</th>\n",
       "      <th>immigration</th>\n",
       "      <th>synfuels</th>\n",
       "      <th>education</th>\n",
       "      <th>superfund</th>\n",
       "      <th>crime</th>\n",
       "      <th>duty_free_exports</th>\n",
       "      <th>eaa_rsa</th>\n",
       "    </tr>\n",
       "  </thead>\n",
       "  <tbody>\n",
       "    <tr>\n",
       "      <th>0</th>\n",
       "      <td>republican</td>\n",
       "      <td>0.0</td>\n",
       "      <td>1.0</td>\n",
       "      <td>0.0</td>\n",
       "      <td>1.0</td>\n",
       "      <td>1.0</td>\n",
       "      <td>1.0</td>\n",
       "      <td>0.0</td>\n",
       "      <td>0.0</td>\n",
       "      <td>0.0</td>\n",
       "      <td>1.0</td>\n",
       "      <td>0.0</td>\n",
       "      <td>1.0</td>\n",
       "      <td>1.0</td>\n",
       "      <td>1.0</td>\n",
       "      <td>0.0</td>\n",
       "      <td>1.0</td>\n",
       "    </tr>\n",
       "    <tr>\n",
       "      <th>1</th>\n",
       "      <td>republican</td>\n",
       "      <td>0.0</td>\n",
       "      <td>1.0</td>\n",
       "      <td>0.0</td>\n",
       "      <td>1.0</td>\n",
       "      <td>1.0</td>\n",
       "      <td>1.0</td>\n",
       "      <td>0.0</td>\n",
       "      <td>0.0</td>\n",
       "      <td>0.0</td>\n",
       "      <td>0.0</td>\n",
       "      <td>0.0</td>\n",
       "      <td>1.0</td>\n",
       "      <td>1.0</td>\n",
       "      <td>1.0</td>\n",
       "      <td>0.0</td>\n",
       "      <td>1.0</td>\n",
       "    </tr>\n",
       "    <tr>\n",
       "      <th>2</th>\n",
       "      <td>democrat</td>\n",
       "      <td>0.0</td>\n",
       "      <td>1.0</td>\n",
       "      <td>1.0</td>\n",
       "      <td>0.0</td>\n",
       "      <td>1.0</td>\n",
       "      <td>1.0</td>\n",
       "      <td>0.0</td>\n",
       "      <td>0.0</td>\n",
       "      <td>0.0</td>\n",
       "      <td>0.0</td>\n",
       "      <td>1.0</td>\n",
       "      <td>0.0</td>\n",
       "      <td>1.0</td>\n",
       "      <td>1.0</td>\n",
       "      <td>0.0</td>\n",
       "      <td>0.0</td>\n",
       "    </tr>\n",
       "    <tr>\n",
       "      <th>3</th>\n",
       "      <td>democrat</td>\n",
       "      <td>0.0</td>\n",
       "      <td>1.0</td>\n",
       "      <td>1.0</td>\n",
       "      <td>0.0</td>\n",
       "      <td>1.0</td>\n",
       "      <td>1.0</td>\n",
       "      <td>0.0</td>\n",
       "      <td>0.0</td>\n",
       "      <td>0.0</td>\n",
       "      <td>0.0</td>\n",
       "      <td>1.0</td>\n",
       "      <td>0.0</td>\n",
       "      <td>1.0</td>\n",
       "      <td>0.0</td>\n",
       "      <td>0.0</td>\n",
       "      <td>1.0</td>\n",
       "    </tr>\n",
       "    <tr>\n",
       "      <th>4</th>\n",
       "      <td>democrat</td>\n",
       "      <td>1.0</td>\n",
       "      <td>1.0</td>\n",
       "      <td>1.0</td>\n",
       "      <td>0.0</td>\n",
       "      <td>1.0</td>\n",
       "      <td>1.0</td>\n",
       "      <td>0.0</td>\n",
       "      <td>0.0</td>\n",
       "      <td>0.0</td>\n",
       "      <td>0.0</td>\n",
       "      <td>1.0</td>\n",
       "      <td>0.0</td>\n",
       "      <td>1.0</td>\n",
       "      <td>1.0</td>\n",
       "      <td>1.0</td>\n",
       "      <td>1.0</td>\n",
       "    </tr>\n",
       "  </tbody>\n",
       "</table>\n",
       "</div>"
      ],
      "text/plain": [
       "        party  infants  water  budget  physician  salvador  religious  \\\n",
       "0  republican      0.0    1.0     0.0        1.0       1.0        1.0   \n",
       "1  republican      0.0    1.0     0.0        1.0       1.0        1.0   \n",
       "2    democrat      0.0    1.0     1.0        0.0       1.0        1.0   \n",
       "3    democrat      0.0    1.0     1.0        0.0       1.0        1.0   \n",
       "4    democrat      1.0    1.0     1.0        0.0       1.0        1.0   \n",
       "\n",
       "   satellite  aid  missile  immigration  synfuels  education  superfund  \\\n",
       "0        0.0  0.0      0.0          1.0       0.0        1.0        1.0   \n",
       "1        0.0  0.0      0.0          0.0       0.0        1.0        1.0   \n",
       "2        0.0  0.0      0.0          0.0       1.0        0.0        1.0   \n",
       "3        0.0  0.0      0.0          0.0       1.0        0.0        1.0   \n",
       "4        0.0  0.0      0.0          0.0       1.0        0.0        1.0   \n",
       "\n",
       "   crime  duty_free_exports  eaa_rsa  \n",
       "0    1.0                0.0      1.0  \n",
       "1    1.0                0.0      1.0  \n",
       "2    1.0                0.0      0.0  \n",
       "3    0.0                0.0      1.0  \n",
       "4    1.0                1.0      1.0  "
      ]
     },
     "execution_count": 8,
     "metadata": {},
     "output_type": "execute_result"
    }
   ],
   "source": [
    "# implute most common value to NaN\n",
    "df = df.fillna(df.mode().iloc[0])\n",
    "\n",
    "df.head()"
   ]
  },
  {
   "cell_type": "code",
   "execution_count": 9,
   "id": "51b75779-5b56-4078-a033-4ce110f4d37d",
   "metadata": {},
   "outputs": [
    {
     "data": {
      "text/html": [
       "<div>\n",
       "<style scoped>\n",
       "    .dataframe tbody tr th:only-of-type {\n",
       "        vertical-align: middle;\n",
       "    }\n",
       "\n",
       "    .dataframe tbody tr th {\n",
       "        vertical-align: top;\n",
       "    }\n",
       "\n",
       "    .dataframe thead th {\n",
       "        text-align: right;\n",
       "    }\n",
       "</style>\n",
       "<table border=\"1\" class=\"dataframe\">\n",
       "  <thead>\n",
       "    <tr style=\"text-align: right;\">\n",
       "      <th></th>\n",
       "      <th>party</th>\n",
       "      <th>infants</th>\n",
       "      <th>water</th>\n",
       "      <th>budget</th>\n",
       "      <th>physician</th>\n",
       "      <th>salvador</th>\n",
       "      <th>religious</th>\n",
       "      <th>satellite</th>\n",
       "      <th>aid</th>\n",
       "      <th>missile</th>\n",
       "      <th>immigration</th>\n",
       "      <th>synfuels</th>\n",
       "      <th>education</th>\n",
       "      <th>superfund</th>\n",
       "      <th>crime</th>\n",
       "      <th>duty_free_exports</th>\n",
       "      <th>eaa_rsa</th>\n",
       "    </tr>\n",
       "  </thead>\n",
       "  <tbody>\n",
       "    <tr>\n",
       "      <th>0</th>\n",
       "      <td>republican</td>\n",
       "      <td>0</td>\n",
       "      <td>1</td>\n",
       "      <td>0</td>\n",
       "      <td>1</td>\n",
       "      <td>1</td>\n",
       "      <td>1</td>\n",
       "      <td>0</td>\n",
       "      <td>0</td>\n",
       "      <td>0</td>\n",
       "      <td>1</td>\n",
       "      <td>0</td>\n",
       "      <td>1</td>\n",
       "      <td>1</td>\n",
       "      <td>1</td>\n",
       "      <td>0</td>\n",
       "      <td>1</td>\n",
       "    </tr>\n",
       "    <tr>\n",
       "      <th>1</th>\n",
       "      <td>republican</td>\n",
       "      <td>0</td>\n",
       "      <td>1</td>\n",
       "      <td>0</td>\n",
       "      <td>1</td>\n",
       "      <td>1</td>\n",
       "      <td>1</td>\n",
       "      <td>0</td>\n",
       "      <td>0</td>\n",
       "      <td>0</td>\n",
       "      <td>0</td>\n",
       "      <td>0</td>\n",
       "      <td>1</td>\n",
       "      <td>1</td>\n",
       "      <td>1</td>\n",
       "      <td>0</td>\n",
       "      <td>1</td>\n",
       "    </tr>\n",
       "    <tr>\n",
       "      <th>2</th>\n",
       "      <td>democrat</td>\n",
       "      <td>0</td>\n",
       "      <td>1</td>\n",
       "      <td>1</td>\n",
       "      <td>0</td>\n",
       "      <td>1</td>\n",
       "      <td>1</td>\n",
       "      <td>0</td>\n",
       "      <td>0</td>\n",
       "      <td>0</td>\n",
       "      <td>0</td>\n",
       "      <td>1</td>\n",
       "      <td>0</td>\n",
       "      <td>1</td>\n",
       "      <td>1</td>\n",
       "      <td>0</td>\n",
       "      <td>0</td>\n",
       "    </tr>\n",
       "    <tr>\n",
       "      <th>3</th>\n",
       "      <td>democrat</td>\n",
       "      <td>0</td>\n",
       "      <td>1</td>\n",
       "      <td>1</td>\n",
       "      <td>0</td>\n",
       "      <td>1</td>\n",
       "      <td>1</td>\n",
       "      <td>0</td>\n",
       "      <td>0</td>\n",
       "      <td>0</td>\n",
       "      <td>0</td>\n",
       "      <td>1</td>\n",
       "      <td>0</td>\n",
       "      <td>1</td>\n",
       "      <td>0</td>\n",
       "      <td>0</td>\n",
       "      <td>1</td>\n",
       "    </tr>\n",
       "    <tr>\n",
       "      <th>4</th>\n",
       "      <td>democrat</td>\n",
       "      <td>1</td>\n",
       "      <td>1</td>\n",
       "      <td>1</td>\n",
       "      <td>0</td>\n",
       "      <td>1</td>\n",
       "      <td>1</td>\n",
       "      <td>0</td>\n",
       "      <td>0</td>\n",
       "      <td>0</td>\n",
       "      <td>0</td>\n",
       "      <td>1</td>\n",
       "      <td>0</td>\n",
       "      <td>1</td>\n",
       "      <td>1</td>\n",
       "      <td>1</td>\n",
       "      <td>1</td>\n",
       "    </tr>\n",
       "  </tbody>\n",
       "</table>\n",
       "</div>"
      ],
      "text/plain": [
       "        party  infants  water  budget  physician  salvador  religious  \\\n",
       "0  republican        0      1       0          1         1          1   \n",
       "1  republican        0      1       0          1         1          1   \n",
       "2    democrat        0      1       1          0         1          1   \n",
       "3    democrat        0      1       1          0         1          1   \n",
       "4    democrat        1      1       1          0         1          1   \n",
       "\n",
       "   satellite  aid  missile  immigration  synfuels  education  superfund  \\\n",
       "0          0    0        0            1         0          1          1   \n",
       "1          0    0        0            0         0          1          1   \n",
       "2          0    0        0            0         1          0          1   \n",
       "3          0    0        0            0         1          0          1   \n",
       "4          0    0        0            0         1          0          1   \n",
       "\n",
       "   crime  duty_free_exports  eaa_rsa  \n",
       "0      1                  0        1  \n",
       "1      1                  0        1  \n",
       "2      1                  0        0  \n",
       "3      0                  0        1  \n",
       "4      1                  1        1  "
      ]
     },
     "execution_count": 9,
     "metadata": {},
     "output_type": "execute_result"
    }
   ],
   "source": [
    "# cast all float values to int\n",
    "df.iloc[:, 1:] = df.iloc[:, 1:].astype(int)\n",
    "\n",
    "df.head()"
   ]
  },
  {
   "cell_type": "markdown",
   "id": "05070eaa-6806-4e9c-a7e5-d7c5ea6f12dd",
   "metadata": {},
   "source": [
    "### Visual EDA"
   ]
  },
  {
   "cell_type": "code",
   "execution_count": 10,
   "id": "24e66f08-becd-49da-9ec8-927944b4024a",
   "metadata": {},
   "outputs": [
    {
     "data": {
      "image/png": "[encoded data removed]",
      "text/plain": [
       "<Figure size 432x288 with 1 Axes>"
      ]
     },
     "metadata": {
      "needs_background": "light"
     },
     "output_type": "display_data"
    }
   ],
   "source": [
    "# countplot of the education bill\n",
    "plt.figure()\n",
    "sns.countplot(x=\"education\", hue=\"party\", data=df, palette=\"RdBu\")\n",
    "plt.xticks([0, 1], [\"No\", \"Yes\"]);"
   ]
  },
  {
   "cell_type": "code",
   "execution_count": 11,
   "id": "559a3967-d1cd-41b4-9552-b293009427d9",
   "metadata": {},
   "outputs": [
    {
     "data": {
      "image/png": "[encoded data removed]",
      "text/plain": [
       "<Figure size 432x288 with 1 Axes>"
      ]
     },
     "metadata": {
      "needs_background": "light"
     },
     "output_type": "display_data"
    }
   ],
   "source": [
    "# countplot of the satellite bill\n",
    "plt.figure()\n",
    "sns.countplot(x=\"satellite\", hue=\"party\", data=df, palette=\"RdBu\")\n",
    "plt.xticks([0, 1], [\"No\", \"Yes\"]);"
   ]
  },
  {
   "cell_type": "code",
   "execution_count": 12,
   "id": "a79ef919-957a-48f9-b2a3-7d0997424984",
   "metadata": {},
   "outputs": [
    {
     "data": {
      "image/png": "[encoded data removed]",
      "text/plain": [
       "<Figure size 432x288 with 1 Axes>"
      ]
     },
     "metadata": {
      "needs_background": "light"
     },
     "output_type": "display_data"
    }
   ],
   "source": [
    "# countplot of the missile bill\n",
    "plt.figure()\n",
    "sns.countplot(x=\"missile\", hue=\"party\", data=df, palette=\"RdBu\")\n",
    "plt.xticks([0, 1], [\"No\", \"Yes\"]);"
   ]
  },
  {
   "cell_type": "markdown",
   "id": "2a0d3016-ca9a-4749-b678-efc4f08f15cd",
   "metadata": {},
   "source": [
    "## The Classifier Challenge"
   ]
  },
  {
   "cell_type": "markdown",
   "id": "6fe14407-2b83-4210-af0b-9f61f3b1c2ba",
   "metadata": {},
   "source": [
    "### k-Nearest Neighbors: Fit"
   ]
  },
  {
   "cell_type": "code",
   "execution_count": 13,
   "id": "f550aa22-b402-4138-88a5-8ee976a112b6",
   "metadata": {},
   "outputs": [
    {
     "data": {
      "text/html": [
       "<style>#sk-container-id-1 {color: black;background-color: white;}#sk-container-id-1 pre{padding: 0;}#sk-container-id-1 div.sk-toggleable {background-color: white;}#sk-container-id-1 label.sk-toggleable__label {cursor: pointer;display: block;width: 100%;margin-bottom: 0;padding: 0.3em;box-sizing: border-box;text-align: center;}#sk-container-id-1 label.sk-toggleable__label-arrow:before {content: \"▸\";float: left;margin-right: 0.25em;color: #696969;}#sk-container-id-1 label.sk-toggleable__label-arrow:hover:before {color: black;}#sk-container-id-1 div.sk-estimator:hover label.sk-toggleable__label-arrow:before {color: black;}#sk-container-id-1 div.sk-toggleable__content {max-height: 0;max-width: 0;overflow: hidden;text-align: left;background-color: #f0f8ff;}#sk-container-id-1 div.sk-toggleable__content pre {margin: 0.2em;color: black;border-radius: 0.25em;background-color: #f0f8ff;}#sk-container-id-1 input.sk-toggleable__control:checked~div.sk-toggleable__content {max-height: 200px;max-width: 100%;overflow: auto;}#sk-container-id-1 input.sk-toggleable__control:checked~label.sk-toggleable__label-arrow:before {content: \"▾\";}#sk-container-id-1 div.sk-estimator input.sk-toggleable__control:checked~label.sk-toggleable__label {background-color: #d4ebff;}#sk-container-id-1 div.sk-label input.sk-toggleable__control:checked~label.sk-toggleable__label {background-color: #d4ebff;}#sk-container-id-1 input.sk-hidden--visually {border: 0;clip: rect(1px 1px 1px 1px);clip: rect(1px, 1px, 1px, 1px);height: 1px;margin: -1px;overflow: hidden;padding: 0;position: absolute;width: 1px;}#sk-container-id-1 div.sk-estimator {font-family: monospace;background-color: #f0f8ff;border: 1px dotted black;border-radius: 0.25em;box-sizing: border-box;margin-bottom: 0.5em;}#sk-container-id-1 div.sk-estimator:hover {background-color: #d4ebff;}#sk-container-id-1 div.sk-parallel-item::after {content: \"\";width: 100%;border-bottom: 1px solid gray;flex-grow: 1;}#sk-container-id-1 div.sk-label:hover label.sk-toggleable__label {background-color: #d4ebff;}#sk-container-id-1 div.sk-serial::before {content: \"\";position: absolute;border-left: 1px solid gray;box-sizing: border-box;top: 0;bottom: 0;left: 50%;z-index: 0;}#sk-container-id-1 div.sk-serial {display: flex;flex-direction: column;align-items: center;background-color: white;padding-right: 0.2em;padding-left: 0.2em;position: relative;}#sk-container-id-1 div.sk-item {position: relative;z-index: 1;}#sk-container-id-1 div.sk-parallel {display: flex;align-items: stretch;justify-content: center;background-color: white;position: relative;}#sk-container-id-1 div.sk-item::before, #sk-container-id-1 div.sk-parallel-item::before {content: \"\";position: absolute;border-left: 1px solid gray;box-sizing: border-box;top: 0;bottom: 0;left: 50%;z-index: -1;}#sk-container-id-1 div.sk-parallel-item {display: flex;flex-direction: column;z-index: 1;position: relative;background-color: white;}#sk-container-id-1 div.sk-parallel-item:first-child::after {align-self: flex-end;width: 50%;}#sk-container-id-1 div.sk-parallel-item:last-child::after {align-self: flex-start;width: 50%;}#sk-container-id-1 div.sk-parallel-item:only-child::after {width: 0;}#sk-container-id-1 div.sk-dashed-wrapped {border: 1px dashed gray;margin: 0 0.4em 0.5em 0.4em;box-sizing: border-box;padding-bottom: 0.4em;background-color: white;}#sk-container-id-1 div.sk-label label {font-family: monospace;font-weight: bold;display: inline-block;line-height: 1.2em;}#sk-container-id-1 div.sk-label-container {text-align: center;}#sk-container-id-1 div.sk-container {/* jupyter's `normalize.less` sets `[hidden] { display: none; }` but bootstrap.min.css set `[hidden] { display: none !important; }` so we also need the `!important` here to be able to override the default hidden behavior on the sphinx rendered scikit-learn.org. See: https://github.com/scikit-learn/scikit-learn/issues/21755 */display: inline-block !important;position: relative;}#sk-container-id-1 div.sk-text-repr-fallback {display: none;}</style><div id=\"sk-container-id-1\" class=\"sk-top-container\"><div class=\"sk-text-repr-fallback\"><pre>KNeighborsClassifier(n_neighbors=6)</pre><b>In a Jupyter environment, please rerun this cell to show the HTML representation or trust the notebook. <br />On GitHub, the HTML representation is unable to render, please try loading this page with nbviewer.org.</b></div><div class=\"sk-container\" hidden><div class=\"sk-item\"><div class=\"sk-estimator sk-toggleable\"><input class=\"sk-toggleable__control sk-hidden--visually\" id=\"sk-estimator-id-1\" type=\"checkbox\" checked><label for=\"sk-estimator-id-1\" class=\"sk-toggleable__label sk-toggleable__label-arrow\">KNeighborsClassifier</label><div class=\"sk-toggleable__content\"><pre>KNeighborsClassifier(n_neighbors=6)</pre></div></div></div></div></div>"
      ],
      "text/plain": [
       "KNeighborsClassifier(n_neighbors=6)"
      ]
     },
     "execution_count": 13,
     "metadata": {},
     "output_type": "execute_result"
    }
   ],
   "source": [
    "# Import KNeighborsClassifier from sklearn.neighbors\n",
    "from sklearn.neighbors import KNeighborsClassifier\n",
    "\n",
    "# Create arrays for the features and the response variable\n",
    "y = df['party'].values\n",
    "X = df.drop('party', axis=1).values\n",
    "\n",
    "# Create a k-NN classifier with 6 neighbors\n",
    "knn_vote = KNeighborsClassifier(n_neighbors=6)\n",
    "\n",
    "# Fit the classifier to the data\n",
    "knn_vote.fit(X, y)"
   ]
  },
  {
   "cell_type": "markdown",
   "id": "4d2b9ee3-a498-4025-9c61-2ab1bac3b585",
   "metadata": {},
   "source": [
    "### k-Nearest Neighbors: Predict"
   ]
  },
  {
   "cell_type": "code",
   "execution_count": 14,
   "id": "466239cd-1a2e-48a5-aac3-c2aa00309ff1",
   "metadata": {},
   "outputs": [],
   "source": [
    "X_new = np.array([0.696469, 0.286139, 0.226851, 0.551315, 0.719469, 0.423106, 0.980764, 0.68483, 0.480932, 0.392118, 0.343178, 0.72905, 0.438572, 0.059678, 0.398044, 0.737995])\n",
    "X_new = X_new.reshape(1, 16)"
   ]
  },
  {
   "cell_type": "code",
   "execution_count": 15,
   "id": "a683470c-44ce-42bc-b135-d3988874b53b",
   "metadata": {},
   "outputs": [
    {
     "name": "stdout",
     "output_type": "stream",
     "text": [
      "Prediction: ['democrat']\n"
     ]
    }
   ],
   "source": [
    "# Predict the labels for the training data X\n",
    "y_pred = knn_vote.predict(X)\n",
    "\n",
    "# Predict and print the label for the new data point X_new\n",
    "new_prediction = knn_vote.predict(X_new)\n",
    "print(f\"Prediction: {new_prediction}\")"
   ]
  },
  {
   "cell_type": "markdown",
   "id": "c5dc6015-2405-46d8-9ac4-915347a144d9",
   "metadata": {},
   "source": [
    "## Measuring Model Performance"
   ]
  },
  {
   "cell_type": "markdown",
   "id": "94be3bcc-f535-4749-a022-cb50c5f8c7b3",
   "metadata": {},
   "source": [
    "### The Digits Recognition Dataset"
   ]
  },
  {
   "cell_type": "code",
   "execution_count": 16,
   "id": "2de7fb26-7d5b-46a4-938f-a86e5e7ff08b",
   "metadata": {},
   "outputs": [
    {
     "name": "stdout",
     "output_type": "stream",
     "text": [
      "dict_keys(['data', 'target', 'frame', 'feature_names', 'target_names', 'images', 'DESCR'])\n",
      ".. _digits_dataset:\n",
      "\n",
      "Optical recognition of handwritten digits dataset\n",
      "--------------------------------------------------\n",
      "\n",
      "**Data Set Characteristics:**\n",
      "\n",
      "    :Number of Instances: 1797\n",
      "    :Number of Attributes: 64\n",
      "    :Attribute Information: 8x8 image of integer pixels in the range 0..16.\n",
      "    :Missing Attribute Values: None\n",
      "    :Creator: E. Alpaydin (alpaydin '@' boun.edu.tr)\n",
      "    :Date: July; 1998\n",
      "\n",
      "This is a copy of the test set of the UCI ML hand-written digits datasets\n",
      "https://archive.ics.uci.edu/ml/datasets/Optical+Recognition+of+Handwritten+Digits\n",
      "\n",
      "The data set contains images of hand-written digits: 10 classes where\n",
      "each class refers to a digit.\n",
      "\n",
      "Preprocessing programs made available by NIST were used to extract\n",
      "normalized bitmaps of handwritten digits from a preprinted form. From a\n",
      "total of 43 people, 30 contributed to the training set and different 13\n",
      "to the test set. 32x32 bitmaps are divided into nonoverlapping blocks of\n",
      "4x4 and the number of on pixels are counted in each block. This generates\n",
      "an input matrix of 8x8 where each element is an integer in the range\n",
      "0..16. This reduces dimensionality and gives invariance to small\n",
      "distortions.\n",
      "\n",
      "For info on NIST preprocessing routines, see M. D. Garris, J. L. Blue, G.\n",
      "T. Candela, D. L. Dimmick, J. Geist, P. J. Grother, S. A. Janet, and C.\n",
      "L. Wilson, NIST Form-Based Handprint Recognition System, NISTIR 5469,\n",
      "1994.\n",
      "\n",
      ".. topic:: References\n",
      "\n",
      "  - C. Kaynak (1995) Methods of Combining Multiple Classifiers and Their\n",
      "    Applications to Handwritten Digit Recognition, MSc Thesis, Institute of\n",
      "    Graduate Studies in Science and Engineering, Bogazici University.\n",
      "  - E. Alpaydin, C. Kaynak (1998) Cascading Classifiers, Kybernetika.\n",
      "  - Ken Tang and Ponnuthurai N. Suganthan and Xi Yao and A. Kai Qin.\n",
      "    Linear dimensionalityreduction using relevance weighted LDA. School of\n",
      "    Electrical and Electronic Engineering Nanyang Technological University.\n",
      "    2005.\n",
      "  - Claudio Gentile. A New Approximate Maximal Margin Classification\n",
      "    Algorithm. NIPS. 2000.\n",
      "\n",
      "(1797, 8, 8)\n",
      "(1797, 64)\n"
     ]
    },
    {
     "data": {
      "image/png": "[encoded data removed]",
      "text/plain": [
       "<Figure size 432x288 with 1 Axes>"
      ]
     },
     "metadata": {
      "needs_background": "light"
     },
     "output_type": "display_data"
    }
   ],
   "source": [
    "# Import necessary modules\n",
    "from sklearn import datasets\n",
    "\n",
    "# Load the digits dataset: digits\n",
    "digits = datasets.load_digits()\n",
    "\n",
    "# Print the keys and DESCR of the dataset\n",
    "print(digits.keys())\n",
    "print(digits.DESCR)\n",
    "\n",
    "# Print the shape of the images and data keys\n",
    "print(digits.images.shape)\n",
    "print(digits.data.shape)\n",
    "\n",
    "# Display digit 1010\n",
    "plt.imshow(digits.images[1010], cmap=plt.cm.gray_r, interpolation='nearest');"
   ]
  },
  {
   "cell_type": "markdown",
   "id": "c214e0d5-cc53-4c38-97ff-b78409245612",
   "metadata": {},
   "source": [
    "### Train/Test Split + Fit/Predict/Accuracy"
   ]
  },
  {
   "cell_type": "code",
   "execution_count": 17,
   "id": "f780727e-6209-4888-9d78-2eb3ac46bc41",
   "metadata": {},
   "outputs": [
    {
     "name": "stdout",
     "output_type": "stream",
     "text": [
      "Accuracy Score: 0.983\n"
     ]
    }
   ],
   "source": [
    "# Import necessary modules\n",
    "from sklearn.model_selection import train_test_split\n",
    "\n",
    "# Create feature and target arrays\n",
    "X = digits.data\n",
    "y = digits.target\n",
    "\n",
    "# Split into training and test set\n",
    "X_train, X_test, y_train, y_test = train_test_split(X, y, test_size=0.2, random_state=42, stratify=y)\n",
    "\n",
    "# Create a k-NN classifier with 7 neighbors: knn\n",
    "knn_digit = KNeighborsClassifier(n_neighbors=7)\n",
    "\n",
    "# Fit the classifier to the training data\n",
    "knn_digit.fit(X_train, y_train)\n",
    "\n",
    "# Print the accuracy\n",
    "print(f\"Accuracy Score: {knn_digit.score(X_test, y_test):.3f}\")"
   ]
  },
  {
   "cell_type": "markdown",
   "id": "12b1dab7-d4c2-4b12-a3cc-948b08d3b871",
   "metadata": {},
   "source": [
    "### Overfitting and Underfitting"
   ]
  },
  {
   "cell_type": "code",
   "execution_count": 18,
   "id": "9b69461d-db1a-4eef-95b8-407bddb3c890",
   "metadata": {},
   "outputs": [
    {
     "data": {
      "image/png": "[encoded data removed]",
      "text/plain": [
       "<Figure size 432x288 with 1 Axes>"
      ]
     },
     "metadata": {
      "needs_background": "light"
     },
     "output_type": "display_data"
    }
   ],
   "source": [
    "# Setup arrays to store train and test accuracies\n",
    "neighbors = np.arange(1, 9)\n",
    "train_accuracy = np.empty(len(neighbors))\n",
    "test_accuracy = np.empty(len(neighbors))\n",
    "\n",
    "# Loop over different values of k\n",
    "for i, k in enumerate(neighbors):\n",
    "    # Setup a k-NN Classifier with k neighbors: knn\n",
    "    knn_digit = KNeighborsClassifier(n_neighbors=k)\n",
    "\n",
    "    # Fit the classifier to the training data\n",
    "    knn_digit.fit(X_train, y_train)\n",
    "    \n",
    "    #Compute accuracy on the training set\n",
    "    train_accuracy[i] = knn_digit.score(X_train, y_train)\n",
    "\n",
    "    #Compute accuracy on the testing set\n",
    "    test_accuracy[i] = knn_digit.score(X_test, y_test)\n",
    "\n",
    "# Generate plot\n",
    "plt.title('k-NN: Varying Number of Neighbors')\n",
    "plt.plot(neighbors, test_accuracy, label = 'Testing Accuracy')\n",
    "plt.plot(neighbors, train_accuracy, label = 'Training Accuracy')\n",
    "plt.legend()\n",
    "plt.xlabel('Number of Neighbors')\n",
    "plt.ylabel('Accuracy');"
   ]
  },
  {
   "cell_type": "markdown",
   "id": "79ca56d8-bd3a-4a46-8f79-6e3d0b1b0368",
   "metadata": {},
   "source": [
    "## Introduction to Regression"
   ]
  },
  {
   "cell_type": "markdown",
   "id": "90102faf-1be7-43c3-9a71-f81ae8f01462",
   "metadata": {},
   "source": [
    "### Importing Data for Supervised Learning"
   ]
  },
  {
   "cell_type": "code",
   "execution_count": 19,
   "id": "ba41900f-e680-404c-b140-4e72edbbf4cf",
   "metadata": {},
   "outputs": [
    {
     "name": "stdout",
     "output_type": "stream",
     "text": [
      "Dimensions of y before reshaping:  (139,)\n",
      "Dimensions of X before reshaping:  (139,)\n",
      "Dimensions of y after reshaping:  (139, 1)\n",
      "Dimensions of X after reshaping:  (139, 1)\n"
     ]
    }
   ],
   "source": [
    "# Import numpy and pandas\n",
    "import numpy as np\n",
    "import pandas as pd\n",
    "\n",
    "# Read the CSV file into a DataFrame: df\n",
    "df_gapminder = pd.read_csv(\"./data/gm_2008_region.csv\")\n",
    "\n",
    "# Create arrays for features and target variable\n",
    "y = df_gapminder[\"life\"].values\n",
    "X = df_gapminder[\"fertility\"].values\n",
    "\n",
    "# Print the dimensions of y and X before reshaping\n",
    "print(\"Dimensions of y before reshaping: \", y.shape)\n",
    "print(\"Dimensions of X before reshaping: \", X.shape)\n",
    "\n",
    "# Reshape X and y\n",
    "y_reshaped = y.reshape(-1, 1)\n",
    "X_reshaped = X.reshape(-1, 1)\n",
    "\n",
    "# Print the dimensions of y_reshaped and X_reshaped\n",
    "print(\"Dimensions of y after reshaping: \", y_reshaped.shape)\n",
    "print(\"Dimensions of X after reshaping: \", X_reshaped.shape)"
   ]
  },
  {
   "cell_type": "markdown",
   "id": "8f81a0f4-2302-4913-a623-aff39b090d20",
   "metadata": {},
   "source": [
    "### Exploring the Gapminder Data"
   ]
  },
  {
   "cell_type": "code",
   "execution_count": 20,
   "id": "beab66e1-08d4-4136-8dbe-b4c992d66211",
   "metadata": {},
   "outputs": [
    {
     "data": {
      "text/html": [
       "<div>\n",
       "<style scoped>\n",
       "    .dataframe tbody tr th:only-of-type {\n",
       "        vertical-align: middle;\n",
       "    }\n",
       "\n",
       "    .dataframe tbody tr th {\n",
       "        vertical-align: top;\n",
       "    }\n",
       "\n",
       "    .dataframe thead th {\n",
       "        text-align: right;\n",
       "    }\n",
       "</style>\n",
       "<table border=\"1\" class=\"dataframe\">\n",
       "  <thead>\n",
       "    <tr style=\"text-align: right;\">\n",
       "      <th></th>\n",
       "      <th>population</th>\n",
       "      <th>fertility</th>\n",
       "      <th>HIV</th>\n",
       "      <th>CO2</th>\n",
       "      <th>BMI_male</th>\n",
       "      <th>GDP</th>\n",
       "      <th>BMI_female</th>\n",
       "      <th>life</th>\n",
       "      <th>child_mortality</th>\n",
       "      <th>Region</th>\n",
       "    </tr>\n",
       "  </thead>\n",
       "  <tbody>\n",
       "    <tr>\n",
       "      <th>0</th>\n",
       "      <td>34811059.0</td>\n",
       "      <td>2.73</td>\n",
       "      <td>0.1</td>\n",
       "      <td>3.328945</td>\n",
       "      <td>24.59620</td>\n",
       "      <td>12314.0</td>\n",
       "      <td>129.9049</td>\n",
       "      <td>75.3</td>\n",
       "      <td>29.5</td>\n",
       "      <td>Middle East &amp; North Africa</td>\n",
       "    </tr>\n",
       "    <tr>\n",
       "      <th>1</th>\n",
       "      <td>19842251.0</td>\n",
       "      <td>6.43</td>\n",
       "      <td>2.0</td>\n",
       "      <td>1.474353</td>\n",
       "      <td>22.25083</td>\n",
       "      <td>7103.0</td>\n",
       "      <td>130.1247</td>\n",
       "      <td>58.3</td>\n",
       "      <td>192.0</td>\n",
       "      <td>Sub-Saharan Africa</td>\n",
       "    </tr>\n",
       "    <tr>\n",
       "      <th>2</th>\n",
       "      <td>40381860.0</td>\n",
       "      <td>2.24</td>\n",
       "      <td>0.5</td>\n",
       "      <td>4.785170</td>\n",
       "      <td>27.50170</td>\n",
       "      <td>14646.0</td>\n",
       "      <td>118.8915</td>\n",
       "      <td>75.5</td>\n",
       "      <td>15.4</td>\n",
       "      <td>America</td>\n",
       "    </tr>\n",
       "    <tr>\n",
       "      <th>3</th>\n",
       "      <td>2975029.0</td>\n",
       "      <td>1.40</td>\n",
       "      <td>0.1</td>\n",
       "      <td>1.804106</td>\n",
       "      <td>25.35542</td>\n",
       "      <td>7383.0</td>\n",
       "      <td>132.8108</td>\n",
       "      <td>72.5</td>\n",
       "      <td>20.0</td>\n",
       "      <td>Europe &amp; Central Asia</td>\n",
       "    </tr>\n",
       "    <tr>\n",
       "      <th>4</th>\n",
       "      <td>21370348.0</td>\n",
       "      <td>1.96</td>\n",
       "      <td>0.1</td>\n",
       "      <td>18.016313</td>\n",
       "      <td>27.56373</td>\n",
       "      <td>41312.0</td>\n",
       "      <td>117.3755</td>\n",
       "      <td>81.5</td>\n",
       "      <td>5.2</td>\n",
       "      <td>East Asia &amp; Pacific</td>\n",
       "    </tr>\n",
       "  </tbody>\n",
       "</table>\n",
       "</div>"
      ],
      "text/plain": [
       "   population  fertility  HIV        CO2  BMI_male      GDP  BMI_female  life  \\\n",
       "0  34811059.0       2.73  0.1   3.328945  24.59620  12314.0    129.9049  75.3   \n",
       "1  19842251.0       6.43  2.0   1.474353  22.25083   7103.0    130.1247  58.3   \n",
       "2  40381860.0       2.24  0.5   4.785170  27.50170  14646.0    118.8915  75.5   \n",
       "3   2975029.0       1.40  0.1   1.804106  25.35542   7383.0    132.8108  72.5   \n",
       "4  21370348.0       1.96  0.1  18.016313  27.56373  41312.0    117.3755  81.5   \n",
       "\n",
       "   child_mortality                      Region  \n",
       "0             29.5  Middle East & North Africa  \n",
       "1            192.0          Sub-Saharan Africa  \n",
       "2             15.4                     America  \n",
       "3             20.0       Europe & Central Asia  \n",
       "4              5.2         East Asia & Pacific  "
      ]
     },
     "execution_count": 20,
     "metadata": {},
     "output_type": "execute_result"
    }
   ],
   "source": [
    "# Check the dataframe\n",
    "df_gapminder.head()"
   ]
  },
  {
   "cell_type": "code",
   "execution_count": 21,
   "id": "36a52bae-bc95-4be2-b017-312335694e37",
   "metadata": {},
   "outputs": [
    {
     "name": "stdout",
     "output_type": "stream",
     "text": [
      "<class 'pandas.core.frame.DataFrame'>\n",
      "RangeIndex: 139 entries, 0 to 138\n",
      "Data columns (total 10 columns):\n",
      " #   Column           Non-Null Count  Dtype  \n",
      "---  ------           --------------  -----  \n",
      " 0   population       139 non-null    float64\n",
      " 1   fertility        139 non-null    float64\n",
      " 2   HIV              139 non-null    float64\n",
      " 3   CO2              139 non-null    float64\n",
      " 4   BMI_male         139 non-null    float64\n",
      " 5   GDP              139 non-null    float64\n",
      " 6   BMI_female       139 non-null    float64\n",
      " 7   life             139 non-null    float64\n",
      " 8   child_mortality  139 non-null    float64\n",
      " 9   Region           139 non-null    object \n",
      "dtypes: float64(9), object(1)\n",
      "memory usage: 11.0+ KB\n"
     ]
    }
   ],
   "source": [
    "# Check information\n",
    "df_gapminder.info()"
   ]
  },
  {
   "cell_type": "code",
   "execution_count": 22,
   "id": "67a017fb-d092-42b3-b2ee-b4c2566098b9",
   "metadata": {},
   "outputs": [
    {
     "data": {
      "text/html": [
       "<div>\n",
       "<style scoped>\n",
       "    .dataframe tbody tr th:only-of-type {\n",
       "        vertical-align: middle;\n",
       "    }\n",
       "\n",
       "    .dataframe tbody tr th {\n",
       "        vertical-align: top;\n",
       "    }\n",
       "\n",
       "    .dataframe thead th {\n",
       "        text-align: right;\n",
       "    }\n",
       "</style>\n",
       "<table border=\"1\" class=\"dataframe\">\n",
       "  <thead>\n",
       "    <tr style=\"text-align: right;\">\n",
       "      <th></th>\n",
       "      <th>count</th>\n",
       "      <th>mean</th>\n",
       "      <th>std</th>\n",
       "      <th>min</th>\n",
       "      <th>25%</th>\n",
       "      <th>50%</th>\n",
       "      <th>75%</th>\n",
       "      <th>max</th>\n",
       "    </tr>\n",
       "  </thead>\n",
       "  <tbody>\n",
       "    <tr>\n",
       "      <th>population</th>\n",
       "      <td>139.0</td>\n",
       "      <td>3.549977e+07</td>\n",
       "      <td>1.095121e+08</td>\n",
       "      <td>277315.000000</td>\n",
       "      <td>3.752776e+06</td>\n",
       "      <td>9.705130e+06</td>\n",
       "      <td>2.791973e+07</td>\n",
       "      <td>1.197070e+09</td>\n",
       "    </tr>\n",
       "    <tr>\n",
       "      <th>fertility</th>\n",
       "      <td>139.0</td>\n",
       "      <td>3.005108e+00</td>\n",
       "      <td>1.615354e+00</td>\n",
       "      <td>1.280000</td>\n",
       "      <td>1.810000e+00</td>\n",
       "      <td>2.410000e+00</td>\n",
       "      <td>4.095000e+00</td>\n",
       "      <td>7.590000e+00</td>\n",
       "    </tr>\n",
       "    <tr>\n",
       "      <th>HIV</th>\n",
       "      <td>139.0</td>\n",
       "      <td>1.915612e+00</td>\n",
       "      <td>4.408974e+00</td>\n",
       "      <td>0.060000</td>\n",
       "      <td>1.000000e-01</td>\n",
       "      <td>4.000000e-01</td>\n",
       "      <td>1.300000e+00</td>\n",
       "      <td>2.590000e+01</td>\n",
       "    </tr>\n",
       "    <tr>\n",
       "      <th>CO2</th>\n",
       "      <td>139.0</td>\n",
       "      <td>4.459874e+00</td>\n",
       "      <td>6.268349e+00</td>\n",
       "      <td>0.008618</td>\n",
       "      <td>4.961900e-01</td>\n",
       "      <td>2.223796e+00</td>\n",
       "      <td>6.589156e+00</td>\n",
       "      <td>4.870206e+01</td>\n",
       "    </tr>\n",
       "    <tr>\n",
       "      <th>BMI_male</th>\n",
       "      <td>139.0</td>\n",
       "      <td>2.462305e+01</td>\n",
       "      <td>2.209368e+00</td>\n",
       "      <td>20.397420</td>\n",
       "      <td>2.244814e+01</td>\n",
       "      <td>2.515699e+01</td>\n",
       "      <td>2.649757e+01</td>\n",
       "      <td>2.845698e+01</td>\n",
       "    </tr>\n",
       "    <tr>\n",
       "      <th>GDP</th>\n",
       "      <td>139.0</td>\n",
       "      <td>1.663878e+04</td>\n",
       "      <td>1.920730e+04</td>\n",
       "      <td>588.000000</td>\n",
       "      <td>2.899000e+03</td>\n",
       "      <td>9.938000e+03</td>\n",
       "      <td>2.327850e+04</td>\n",
       "      <td>1.260760e+05</td>\n",
       "    </tr>\n",
       "    <tr>\n",
       "      <th>BMI_female</th>\n",
       "      <td>139.0</td>\n",
       "      <td>1.267019e+02</td>\n",
       "      <td>4.471997e+00</td>\n",
       "      <td>117.375500</td>\n",
       "      <td>1.232322e+02</td>\n",
       "      <td>1.265196e+02</td>\n",
       "      <td>1.302759e+02</td>\n",
       "      <td>1.354920e+02</td>\n",
       "    </tr>\n",
       "    <tr>\n",
       "      <th>life</th>\n",
       "      <td>139.0</td>\n",
       "      <td>6.960288e+01</td>\n",
       "      <td>9.122189e+00</td>\n",
       "      <td>45.200000</td>\n",
       "      <td>6.220000e+01</td>\n",
       "      <td>7.200000e+01</td>\n",
       "      <td>7.685000e+01</td>\n",
       "      <td>8.260000e+01</td>\n",
       "    </tr>\n",
       "    <tr>\n",
       "      <th>child_mortality</th>\n",
       "      <td>139.0</td>\n",
       "      <td>4.509712e+01</td>\n",
       "      <td>4.572467e+01</td>\n",
       "      <td>2.700000</td>\n",
       "      <td>8.100000e+00</td>\n",
       "      <td>2.400000e+01</td>\n",
       "      <td>7.420000e+01</td>\n",
       "      <td>1.920000e+02</td>\n",
       "    </tr>\n",
       "  </tbody>\n",
       "</table>\n",
       "</div>"
      ],
      "text/plain": [
       "                 count          mean           std            min  \\\n",
       "population       139.0  3.549977e+07  1.095121e+08  277315.000000   \n",
       "fertility        139.0  3.005108e+00  1.615354e+00       1.280000   \n",
       "HIV              139.0  1.915612e+00  4.408974e+00       0.060000   \n",
       "CO2              139.0  4.459874e+00  6.268349e+00       0.008618   \n",
       "BMI_male         139.0  2.462305e+01  2.209368e+00      20.397420   \n",
       "GDP              139.0  1.663878e+04  1.920730e+04     588.000000   \n",
       "BMI_female       139.0  1.267019e+02  4.471997e+00     117.375500   \n",
       "life             139.0  6.960288e+01  9.122189e+00      45.200000   \n",
       "child_mortality  139.0  4.509712e+01  4.572467e+01       2.700000   \n",
       "\n",
       "                          25%           50%           75%           max  \n",
       "population       3.752776e+06  9.705130e+06  2.791973e+07  1.197070e+09  \n",
       "fertility        1.810000e+00  2.410000e+00  4.095000e+00  7.590000e+00  \n",
       "HIV              1.000000e-01  4.000000e-01  1.300000e+00  2.590000e+01  \n",
       "CO2              4.961900e-01  2.223796e+00  6.589156e+00  4.870206e+01  \n",
       "BMI_male         2.244814e+01  2.515699e+01  2.649757e+01  2.845698e+01  \n",
       "GDP              2.899000e+03  9.938000e+03  2.327850e+04  1.260760e+05  \n",
       "BMI_female       1.232322e+02  1.265196e+02  1.302759e+02  1.354920e+02  \n",
       "life             6.220000e+01  7.200000e+01  7.685000e+01  8.260000e+01  \n",
       "child_mortality  8.100000e+00  2.400000e+01  7.420000e+01  1.920000e+02  "
      ]
     },
     "execution_count": 22,
     "metadata": {},
     "output_type": "execute_result"
    }
   ],
   "source": [
    "# Check description\n",
    "df_gapminder.describe().T"
   ]
  },
  {
   "cell_type": "code",
   "execution_count": 23,
   "id": "e2f6a78b-9b65-4075-ad84-b8ab2a300254",
   "metadata": {},
   "outputs": [
    {
     "data": {
      "image/png": "[encoded data removed]",
      "text/plain": [
       "<Figure size 432x288 with 2 Axes>"
      ]
     },
     "metadata": {
      "needs_background": "light"
     },
     "output_type": "display_data"
    }
   ],
   "source": [
    "# Plot the correlation heatmap\n",
    "sns.heatmap(df_gapminder.corr(), square=True, cmap='RdYlGn');"
   ]
  },
  {
   "cell_type": "markdown",
   "id": "f8f4326e-e3e6-4910-974e-dbf91a1c34bb",
   "metadata": {},
   "source": [
    "## The Basics of Linear Regression"
   ]
  },
  {
   "cell_type": "markdown",
   "id": "3293c3e7-ca1c-4c47-ae43-498d9c607d95",
   "metadata": {},
   "source": [
    "### Fit & Predict for Regression"
   ]
  },
  {
   "cell_type": "code",
   "execution_count": 24,
   "id": "da3a068b-5f54-4c30-82d0-6776e88c7ad0",
   "metadata": {},
   "outputs": [
    {
     "name": "stdout",
     "output_type": "stream",
     "text": [
      "R square score: 0.6192442167740035\n"
     ]
    },
    {
     "data": {
      "image/png": "[encoded data removed]",
      "text/plain": [
       "<Figure size 432x288 with 1 Axes>"
      ]
     },
     "metadata": {
      "needs_background": "light"
     },
     "output_type": "display_data"
    }
   ],
   "source": [
    "# Import LinearRegression\n",
    "from sklearn.linear_model import LinearRegression\n",
    "\n",
    "# Create the regressor: reg\n",
    "reg = LinearRegression()\n",
    "\n",
    "# Create the prediction space\n",
    "prediction_space = np.linspace(min(X_reshaped), max(X_reshaped)).reshape(-1,1)\n",
    "\n",
    "# Fit the model to the data\n",
    "reg.fit(X_reshaped, y_reshaped)\n",
    "\n",
    "# Compute predictions over the prediction space: y_pred\n",
    "y_pred = reg.predict(prediction_space)\n",
    "\n",
    "# Print R^2 \n",
    "print(f\"R square score: {reg.score(X_reshaped, y_reshaped)}\")\n",
    "\n",
    "# Plot data\n",
    "plt.scatter(X_reshaped, y_reshaped, color=\"blue\")\n",
    "plt.xlabel(\"Fertility\")\n",
    "plt.ylabel(\"Life Expectancy\")\n",
    "\n",
    "# Plot regression line\n",
    "plt.plot(prediction_space, y_pred, color='black', linewidth=3);"
   ]
  },
  {
   "cell_type": "markdown",
   "id": "19e4170d-905e-47ec-8337-28f3ccc4af73",
   "metadata": {},
   "source": [
    "### Train/Test Split for Regression"
   ]
  },
  {
   "cell_type": "code",
   "execution_count": 25,
   "id": "0cd834c7-d031-4546-967d-0179a6d057d2",
   "metadata": {},
   "outputs": [
    {
     "name": "stdout",
     "output_type": "stream",
     "text": [
      "R^2: 0.838\n",
      "Root Mean Squared Error: 3.248\n"
     ]
    }
   ],
   "source": [
    "# Import necessary modules\n",
    "from sklearn.metrics import mean_squared_error\n",
    "\n",
    "# Create training and test sets\n",
    "X = df_gapminder.drop([\"life\", \"Region\"], axis=1).values\n",
    "y = df_gapminder[\"life\"].values\n",
    "X_train, X_test, y_train, y_test = train_test_split(X, y, test_size = 0.3, random_state=42)\n",
    "\n",
    "# Create the regressor: reg_all\n",
    "reg_all = LinearRegression()\n",
    "\n",
    "# Fit the regressor to the training data\n",
    "reg_all.fit(X_train, y_train)\n",
    "\n",
    "# Predict on the test data: y_pred\n",
    "y_pred = reg_all.predict(X_test)\n",
    "\n",
    "# Compute and print R^2 and RMSE\n",
    "print(f\"R^2: {reg_all.score(X_test, y_test):.3f}\")\n",
    "rmse = np.sqrt(mean_squared_error(y_test, y_pred))\n",
    "print(f\"Root Mean Squared Error: {rmse:.3f}\")"
   ]
  },
  {
   "cell_type": "markdown",
   "id": "298a7e07-cd01-4bca-9c0b-3dcf30fcdd06",
   "metadata": {},
   "source": [
    "## Cross-Validation"
   ]
  },
  {
   "cell_type": "markdown",
   "id": "8eaf06df-71f2-4056-8c46-a2dbbb4d74d7",
   "metadata": {},
   "source": [
    "### 5-Fold Cross-Validation"
   ]
  },
  {
   "cell_type": "code",
   "execution_count": 26,
   "id": "7ab7beb9-9e9c-4187-bb3f-5df07c4e154d",
   "metadata": {},
   "outputs": [
    {
     "name": "stdout",
     "output_type": "stream",
     "text": [
      "Cross-validation 5-Fold CV scores: [0.81720569 0.82917058 0.90214134 0.80633989 0.94495637]\n",
      "Average 5-Fold CV Score: 0.860\n"
     ]
    }
   ],
   "source": [
    "# Import the necessary modules\n",
    "from sklearn.model_selection import cross_val_score\n",
    "\n",
    "# Create a linear regression object: reg\n",
    "reg = LinearRegression()\n",
    "\n",
    "# Compute 5-fold cross-validation scores: cv_scores\n",
    "cv_scores = cross_val_score(reg, X, y, cv=5)\n",
    "\n",
    "# Print the 5-fold cross-validation scores\n",
    "print(f\"Cross-validation 5-Fold CV scores: {cv_scores}\")\n",
    "\n",
    "print(f\"Average 5-Fold CV Score: {np.mean(cv_scores):.3f}\")"
   ]
  },
  {
   "cell_type": "markdown",
   "id": "a87ec244-8087-4605-9638-7b3a8898adb3",
   "metadata": {},
   "source": [
    "### K-Fold CV Comparison"
   ]
  },
  {
   "cell_type": "code",
   "execution_count": 27,
   "id": "38c66d4b-c18f-4679-84d1-b27ae41ce5fe",
   "metadata": {},
   "outputs": [
    {
     "name": "stdout",
     "output_type": "stream",
     "text": [
      "Cross-validation 3-Fold CV scores: 0.872\n",
      "Cross-validation 10-Fold CV scores: 0.844\n"
     ]
    }
   ],
   "source": [
    "# Create a linear regression object: reg\n",
    "reg = LinearRegression()\n",
    "\n",
    "# Perform 3-fold CV\n",
    "cvscores_3 = cross_val_score(reg, X, y, cv=3)\n",
    "print(f\"Cross-validation 3-Fold CV scores: {np.mean(cvscores_3):.3f}\")\n",
    "\n",
    "# Perform 10-fold CV\n",
    "cvscores_10 = cross_val_score(reg, X, y, cv=10)\n",
    "print(f\"Cross-validation 10-Fold CV scores: {np.mean(cvscores_10):.3f}\")"
   ]
  },
  {
   "cell_type": "markdown",
   "id": "d3534826-c957-464c-beab-572867bc3a99",
   "metadata": {},
   "source": [
    "## Regularized Regression"
   ]
  },
  {
   "cell_type": "markdown",
   "id": "0806025c-4f13-4db5-983f-520c56617319",
   "metadata": {},
   "source": [
    "### Regularization I: LAsso"
   ]
  },
  {
   "cell_type": "code",
   "execution_count": 28,
   "id": "e961f1ab-2422-4e14-b06d-234a5522c135",
   "metadata": {},
   "outputs": [
    {
     "name": "stdout",
     "output_type": "stream",
     "text": [
      "Lasso Regularization Coefficient: [-0.         -0.         -0.          0.          0.          0.\n",
      " -0.         -0.07087587]\n"
     ]
    },
    {
     "data": {
      "image/png": "[encoded data removed]",
      "text/plain": [
       "<Figure size 432x288 with 1 Axes>"
      ]
     },
     "metadata": {
      "needs_background": "light"
     },
     "output_type": "display_data"
    }
   ],
   "source": [
    "# Import Lasso\n",
    "from sklearn.linear_model import Lasso\n",
    "\n",
    "# Instantiate a lasso regressor: lasso\n",
    "lasso = Lasso(alpha=0.4, normalize=True)\n",
    "\n",
    "# Fit the regressor to the data\n",
    "lasso.fit(X, y)\n",
    "\n",
    "# Compute and print the coefficients\n",
    "lasso_coef = lasso.coef_\n",
    "print(f\"Lasso Regularization Coefficient: {lasso_coef}\")\n",
    "\n",
    "# Plot the coefficients\n",
    "plt.plot(range(len(df_gapminder.drop([\"life\", \"Region\"], axis=1).columns)), lasso_coef)\n",
    "plt.xticks(range(len(df_gapminder.drop([\"life\", \"Region\"], axis=1).columns)), df_gapminder.drop([\"life\", \"Region\"], axis=1).columns.values, rotation=60)\n",
    "plt.margins(0.02);"
   ]
  },
  {
   "cell_type": "markdown",
   "id": "7bc41603-a219-4cb2-b157-a1c66d8d81ff",
   "metadata": {},
   "source": [
    "### Regularization II: Ridge"
   ]
  },
  {
   "cell_type": "code",
   "execution_count": 29,
   "id": "e7b29098-8a64-4182-807d-32cf3f5503b3",
   "metadata": {},
   "outputs": [],
   "source": [
    "def display_plot(cv_scores, cv_scores_std):\n",
    "    \"\"\"\n",
    "    Plots the R_square score as well as standard error for different alphas.\n",
    "    \n",
    "    Parameters\n",
    "    ----------\n",
    "    cv_scores : float\n",
    "      Cross-validation scores for the different models.\n",
    "    cv_scores_std : float\n",
    "      Standard error of the cross-validation scores.\n",
    "    \"\"\"\n",
    "    fig = plt.figure()\n",
    "    ax = fig.add_subplot(1,1,1)\n",
    "    ax.plot(alpha_space, cv_scores)\n",
    "\n",
    "    std_error = cv_scores_std / np.sqrt(10)\n",
    "\n",
    "    ax.fill_between(alpha_space, cv_scores + std_error, cv_scores - std_error, alpha=0.2)\n",
    "    ax.set_ylabel('CV Score +/- Std Error')\n",
    "    ax.set_xlabel('Alpha')\n",
    "    ax.axhline(np.max(cv_scores), linestyle='--', color='.5')\n",
    "    ax.set_xlim([alpha_space[0], alpha_space[-1]])\n",
    "    ax.set_xscale('log');"
   ]
  },
  {
   "cell_type": "code",
   "execution_count": 30,
   "id": "08cff43f-b29a-4a81-b4ff-405c19d765b0",
   "metadata": {},
   "outputs": [
    {
     "data": {
      "image/png": "[encoded data removed]",
      "text/plain": [
       "<Figure size 432x288 with 1 Axes>"
      ]
     },
     "metadata": {
      "needs_background": "light"
     },
     "output_type": "display_data"
    }
   ],
   "source": [
    "# Import necessary modules\n",
    "from sklearn.linear_model import Ridge\n",
    "\n",
    "# Setup the array of alphas and lists to store scores\n",
    "alpha_space = np.logspace(-4, 0, 50)\n",
    "ridge_scores = []\n",
    "ridge_scores_std = []\n",
    "\n",
    "# Create a ridge regressor: ridge\n",
    "ridge = Ridge(normalize=True)\n",
    "\n",
    "# Compute scores over range of alphas\n",
    "for alpha in alpha_space:\n",
    "\n",
    "    # Specify the alpha value to use: ridge.alpha\n",
    "    ridge.alpha = alpha\n",
    "    \n",
    "    # Perform 10-fold CV: ridge_cv_scores\n",
    "    ridge_cv_scores = cross_val_score(ridge, X, y, cv=10)\n",
    "    \n",
    "    # Append the mean of ridge_cv_scores to ridge_scores\n",
    "    ridge_scores.append(np.mean(ridge_cv_scores))\n",
    "    \n",
    "    # Append the std of ridge_cv_scores to ridge_scores_std\n",
    "    ridge_scores_std.append(np.std(ridge_cv_scores))\n",
    "\n",
    "# Display the plot\n",
    "display_plot(ridge_scores, ridge_scores_std)"
   ]
  },
  {
   "cell_type": "markdown",
   "id": "334eac41-3083-4a62-806c-ff805e1432fc",
   "metadata": {},
   "source": [
    "## How Good is your Model?"
   ]
  },
  {
   "cell_type": "markdown",
   "id": "97989415-e12d-4153-829d-baf1fd7f5938",
   "metadata": {},
   "source": [
    "### Metrics for Classification"
   ]
  },
  {
   "cell_type": "code",
   "execution_count": 31,
   "id": "16d20ff7-4923-4d82-a62e-e1f550e2d8e0",
   "metadata": {},
   "outputs": [
    {
     "name": "stdout",
     "output_type": "stream",
     "text": [
      "Confusion Matrix: \n",
      "[[176  30]\n",
      " [ 56  46]]\n",
      "Classification Report \n",
      "              precision    recall  f1-score   support\n",
      "\n",
      "           0       0.76      0.85      0.80       206\n",
      "           1       0.61      0.45      0.52       102\n",
      "\n",
      "    accuracy                           0.72       308\n",
      "   macro avg       0.68      0.65      0.66       308\n",
      "weighted avg       0.71      0.72      0.71       308\n",
      "\n"
     ]
    }
   ],
   "source": [
    "# Import necessary modules\n",
    "from sklearn.metrics import classification_report, confusion_matrix\n",
    "\n",
    "# data\n",
    "data = pd.read_csv(\"data/diabetes.csv\")\n",
    "X = data.drop([\"diabetes\"], axis=1).values\n",
    "y = data[\"diabetes\"].values\n",
    "\n",
    "# Create training and test set\n",
    "X_train, X_test, y_train, y_test = train_test_split(X, y, test_size=0.4, random_state=42)\n",
    "\n",
    "# Instantiate a k-NN classifier: knn\n",
    "knn = KNeighborsClassifier(n_neighbors=6)\n",
    "\n",
    "# Fit the classifier to the training data\n",
    "knn.fit(X_train, y_train)\n",
    "\n",
    "# Predict the labels of the test data: y_pred\n",
    "y_pred = knn.predict(X_test)\n",
    "\n",
    "# Generate the confusion matrix and classification report\n",
    "print(f\"Confusion Matrix: \\n{confusion_matrix(y_test, y_pred)}\")\n",
    "print(f\"Classification Report \\n{classification_report(y_test, y_pred)}\")"
   ]
  },
  {
   "cell_type": "markdown",
   "id": "4b0fc203-2445-4c61-9853-ca7a69658456",
   "metadata": {},
   "source": [
    "## Logistic Regression and the ROC Curve"
   ]
  },
  {
   "cell_type": "markdown",
   "id": "10bde86b-8b1d-4987-a47c-5f5b6886dec2",
   "metadata": {},
   "source": [
    "### Building a Logistic Regression Model"
   ]
  },
  {
   "cell_type": "code",
   "execution_count": 32,
   "id": "6ffcfe16-e2ff-4c66-a71b-777ce1c4ec7e",
   "metadata": {},
   "outputs": [
    {
     "name": "stdout",
     "output_type": "stream",
     "text": [
      "Confusion Matrix: \n",
      "[[170  36]\n",
      " [ 36  66]]\n",
      "Classification Report \n",
      "              precision    recall  f1-score   support\n",
      "\n",
      "           0       0.83      0.83      0.83       206\n",
      "           1       0.65      0.65      0.65       102\n",
      "\n",
      "    accuracy                           0.77       308\n",
      "   macro avg       0.74      0.74      0.74       308\n",
      "weighted avg       0.77      0.77      0.77       308\n",
      "\n"
     ]
    }
   ],
   "source": [
    "# Import the necessary modules\n",
    "from sklearn.linear_model import LogisticRegression\n",
    "\n",
    "# Create the classifier: logreg\n",
    "logreg = LogisticRegression()\n",
    "\n",
    "# Fit the classifier to the training data\n",
    "logreg.fit(X_train, y_train)\n",
    "\n",
    "# Predict the labels of the test set: y_pred\n",
    "y_pred = logreg.predict(X_test)\n",
    "\n",
    "# Compute and print the confusion matrix and classification report\n",
    "print(f\"Confusion Matrix: \\n{confusion_matrix(y_test, y_pred)}\")\n",
    "print(f\"Classification Report \\n{classification_report(y_test, y_pred)}\")"
   ]
  },
  {
   "cell_type": "markdown",
   "id": "93a664ad-b425-4f63-8e55-c3b3c3fecaaf",
   "metadata": {},
   "source": [
    "### Plotting an ROC Curve"
   ]
  },
  {
   "cell_type": "code",
   "execution_count": 33,
   "id": "50e66357-5971-4c98-9e7f-37580b186805",
   "metadata": {},
   "outputs": [
    {
     "data": {
      "image/png": "[encoded data removed]",
      "text/plain": [
       "<Figure size 432x288 with 1 Axes>"
      ]
     },
     "metadata": {
      "needs_background": "light"
     },
     "output_type": "display_data"
    }
   ],
   "source": [
    "# Import necessary modules\n",
    "from sklearn.metrics import roc_curve\n",
    "\n",
    "# Compute predicted probabilities: y_pred_prob\n",
    "y_pred_prob = logreg.predict_proba(X_test)[:,1]\n",
    "\n",
    "# Generate ROC curve values: fpr, tpr, thresholds\n",
    "fpr, tpr, thresholds = roc_curve(y_test, y_pred_prob)\n",
    "\n",
    "# Plot ROC curve\n",
    "plt.plot([0, 1], [0, 1], 'k--', label=\"No Skill\")\n",
    "plt.plot(fpr, tpr, label='Logistic Regression')\n",
    "plt.xlabel('False Positive Rate')\n",
    "plt.ylabel('True Positive Rate')\n",
    "plt.title('ROC Curve')\n",
    "plt.legend();"
   ]
  },
  {
   "cell_type": "markdown",
   "id": "e1d2eafb-3a98-4e93-8628-21ec0711a394",
   "metadata": {},
   "source": [
    "### Precision-Recall Curve"
   ]
  },
  {
   "cell_type": "code",
   "execution_count": 34,
   "id": "22ba3a6e-bbc7-48cd-aa89-60891bc3649c",
   "metadata": {},
   "outputs": [
    {
     "data": {
      "image/png": "[encoded data removed]",
      "text/plain": [
       "<Figure size 432x288 with 1 Axes>"
      ]
     },
     "metadata": {
      "needs_background": "light"
     },
     "output_type": "display_data"
    }
   ],
   "source": [
    "# Import necessary modules\n",
    "from sklearn.metrics import precision_recall_curve\n",
    "\n",
    "# predict class values\n",
    "lr_precision, lr_recall, _ = precision_recall_curve(y_test, y_pred_prob)\n",
    "\n",
    "# plot the precision-recall curves\n",
    "plt.plot(lr_recall, lr_precision, marker='.', label='Logistic')\n",
    "plt.xlabel('Recall')\n",
    "plt.ylabel('Precision')\n",
    "plt.title(\"Precision-Recall Curve\")\n",
    "plt.legend();"
   ]
  },
  {
   "cell_type": "markdown",
   "id": "17362181-1acd-441a-9f2e-20539f0dd90e",
   "metadata": {},
   "source": [
    "## Area Under the ROC Curve"
   ]
  },
  {
   "cell_type": "markdown",
   "id": "abdbd782-f45e-41a0-afde-7f7054c5e89e",
   "metadata": {},
   "source": [
    "### AUC Computation"
   ]
  },
  {
   "cell_type": "code",
   "execution_count": 35,
   "id": "ce4298c1-c9d8-47d0-a51a-634f047b507f",
   "metadata": {},
   "outputs": [
    {
     "name": "stdout",
     "output_type": "stream",
     "text": [
      "AUC: 0.826\n",
      "AUC scores computed using 5-fold cross-validation: [0.80814815 0.80777778 0.82666667 0.8745283  0.83245283]\n"
     ]
    }
   ],
   "source": [
    "# Import necessary modules\n",
    "from sklearn.metrics import roc_auc_score\n",
    "\n",
    "# Compute predicted probabilities: y_pred_prob\n",
    "y_pred_prob = logreg.predict_proba(X_test)[:,1]\n",
    "\n",
    "# Compute and print AUC score\n",
    "print(f\"AUC: {roc_auc_score(y_test, y_pred_prob):.3f}\")\n",
    "\n",
    "# Compute cross-validated AUC scores: cv_auc\n",
    "cv_auc = cross_val_score(logreg, X, y, cv=5, scoring=\"roc_auc\")\n",
    "\n",
    "# Print list of AUC scores\n",
    "print(f\"AUC scores computed using 5-fold cross-validation: {cv_auc}\")"
   ]
  },
  {
   "cell_type": "markdown",
   "id": "48b3cf5d-9bf7-442a-adde-27679449f645",
   "metadata": {},
   "source": [
    "## Hyperparameter Tuning"
   ]
  },
  {
   "cell_type": "markdown",
   "id": "d744e312-84d7-40b4-a6b2-62179c7882e9",
   "metadata": {},
   "source": [
    "### Hyperparameter Tuning with GridSearchCV"
   ]
  },
  {
   "cell_type": "code",
   "execution_count": 36,
   "id": "9c4de08b-22ea-4558-8ab2-ad3763bc8115",
   "metadata": {},
   "outputs": [
    {
     "name": "stdout",
     "output_type": "stream",
     "text": [
      "Tuned Logistic Regression Parameters: {'C': 31.622776601683793}\n",
      "Best score is 0.776\n"
     ]
    }
   ],
   "source": [
    "# Import necessary modules\n",
    "from sklearn.model_selection import GridSearchCV\n",
    "\n",
    "# Setup the hyperparameter grid\n",
    "c_space = np.logspace(-5, 8, 15)\n",
    "param_grid = {'C': c_space}\n",
    "\n",
    "# Instantiate a logistic regression classifier: logreg\n",
    "logreg = LogisticRegression()\n",
    "\n",
    "# Instantiate the GridSearchCV object: logreg_cv\n",
    "logreg_cv = GridSearchCV(logreg, param_grid, cv=5)\n",
    "\n",
    "# Fit it to the data\n",
    "logreg_cv.fit(X, y)\n",
    "\n",
    "# Print the tuned parameters and score\n",
    "print(f\"Tuned Logistic Regression Parameters: {logreg_cv.best_params_}\") \n",
    "print(f\"Best score is {logreg_cv.best_score_:.3f}\")"
   ]
  },
  {
   "cell_type": "markdown",
   "id": "2d9a9c05-20ca-4459-a51d-26bf6f8bd091",
   "metadata": {},
   "source": [
    "### Hyperparameter Tuning with RandomizedSearchCV"
   ]
  },
  {
   "cell_type": "code",
   "execution_count": 37,
   "id": "e0940459-0d3b-443f-8882-183671cd11ec",
   "metadata": {},
   "outputs": [
    {
     "name": "stdout",
     "output_type": "stream",
     "text": [
      "Tuned Decision Tree Parameters: {'criterion': 'entropy', 'max_depth': 3, 'max_features': 7, 'min_samples_leaf': 2}\n",
      "Best score is 0.744\n"
     ]
    }
   ],
   "source": [
    "# Import necessary modules\n",
    "from scipy.stats import randint\n",
    "from sklearn.tree import DecisionTreeClassifier\n",
    "from sklearn.model_selection import RandomizedSearchCV\n",
    "\n",
    "# Setup the parameters and distributions to sample from: param_dist\n",
    "param_dist = {\"max_depth\": [3, None],\n",
    "              \"max_features\": randint(1, 9),\n",
    "              \"min_samples_leaf\": randint(1, 9),\n",
    "              \"criterion\": [\"gini\", \"entropy\"]}\n",
    "\n",
    "# Instantiate a Decision Tree classifier: tree\n",
    "tree = DecisionTreeClassifier()\n",
    "\n",
    "# Instantiate the RandomizedSearchCV object: tree_cv\n",
    "tree_cv = RandomizedSearchCV(tree, param_dist, cv=5)\n",
    "\n",
    "# Fit it to the data\n",
    "tree_cv.fit(X, y)\n",
    "\n",
    "# Print the tuned parameters and score\n",
    "print(f\"Tuned Decision Tree Parameters: {tree_cv.best_params_}\")\n",
    "print(f\"Best score is {tree_cv.best_score_:.3f}\")"
   ]
  },
  {
   "cell_type": "markdown",
   "id": "5dac182a-6c29-410a-8109-bbb50c9c3454",
   "metadata": {},
   "source": [
    "## Hold-Out Set for Final Evaluation"
   ]
  },
  {
   "cell_type": "markdown",
   "id": "a9384ea5-9cea-4caa-b37a-01441ccb5d05",
   "metadata": {},
   "source": [
    "### Hold-Out Set in Practice I: Classification"
   ]
  },
  {
   "cell_type": "code",
   "execution_count": 38,
   "id": "6a6d6dc6-6f41-4232-85f3-7fc6ed8a2736",
   "metadata": {},
   "outputs": [
    {
     "name": "stdout",
     "output_type": "stream",
     "text": [
      "Tuned Logistic Regression Parameter: {'C': 2275.845926074791, 'penalty': 'l2'}\n",
      "Tuned Logistic Regression Accuracy: 0.776\n"
     ]
    }
   ],
   "source": [
    "# Create the hyperparameter grid\n",
    "c_space = np.logspace(-5, 8, 15)\n",
    "param_grid = {\"C\": c_space, \"penalty\": ['l1', 'l2']}\n",
    "\n",
    "# Instantiate the logistic regression classifier: logreg\n",
    "logreg = LogisticRegression()\n",
    "\n",
    "# Create train and test sets\n",
    "X_train, X_test, y_train, y_test = train_test_split(X, y, test_size=0.4, random_state=42)\n",
    "\n",
    "# Instantiate the GridSearchCV object: logreg_cv\n",
    "logreg_cv = GridSearchCV(logreg, param_grid, cv=5)\n",
    "\n",
    "# Fit it to the training data\n",
    "logreg_cv.fit(X_train, y_train)\n",
    "\n",
    "# Print the optimal parameters and best score\n",
    "print(f\"Tuned Logistic Regression Parameter: {logreg_cv.best_params_}\")\n",
    "print(f\"Tuned Logistic Regression Accuracy: {logreg_cv.best_score_:.3f}\")"
   ]
  },
  {
   "cell_type": "markdown",
   "id": "b7d62ff8-3a56-4b6d-99cc-047439ceb4cf",
   "metadata": {},
   "source": [
    "### Hold-Out Set in Practice II: Regression"
   ]
  },
  {
   "cell_type": "code",
   "execution_count": 39,
   "id": "bf18e30d-bd51-4442-8c8d-f8e8b6056680",
   "metadata": {},
   "outputs": [
    {
     "name": "stdout",
     "output_type": "stream",
     "text": [
      "Tuned ElasticNet l1 ratio: {'l1_ratio': 0.20689655172413793}\n",
      "Tuned ElasticNet R squared: 0.867\n",
      "Tuned ElasticNet MSE: 10.058\n"
     ]
    }
   ],
   "source": [
    "# Import necessary modules\n",
    "from sklearn.linear_model import ElasticNet\n",
    "from sklearn.metrics import mean_squared_error\n",
    "\n",
    "# Create train and test sets\n",
    "X = df_gapminder.drop([\"life\", \"Region\"], axis=1).values\n",
    "y = df_gapminder[\"life\"].values\n",
    "X_train, X_test, y_train, y_test = train_test_split(X, y, test_size=0.4, random_state=42)\n",
    "\n",
    "# Create the hyperparameter grid\n",
    "l1_space = np.linspace(0, 1, 30)\n",
    "param_grid = {\"l1_ratio\": l1_space}\n",
    "\n",
    "# Instantiate the ElasticNet regressor: elastic_net\n",
    "elastic_net = ElasticNet()\n",
    "\n",
    "# Setup the GridSearchCV object: gm_cv\n",
    "gm_cv = GridSearchCV(elastic_net, param_grid, cv=5)\n",
    "\n",
    "# Fit it to the training data\n",
    "gm_cv.fit(X_train, y_train)\n",
    "\n",
    "# Predict on the test set and compute metrics\n",
    "y_pred = gm_cv.predict(X_test)\n",
    "r2 = gm_cv.score(X_test, y_test)\n",
    "mse = mean_squared_error(y_test, y_pred)\n",
    "print(f\"Tuned ElasticNet l1 ratio: {format(gm_cv.best_params_)}\")\n",
    "print(f\"Tuned ElasticNet R squared: {r2:.3f}\")\n",
    "print(f\"Tuned ElasticNet MSE: {mse:.3f}\")"
   ]
  },
  {
   "cell_type": "markdown",
   "id": "5890769a-e0a9-48bd-a09d-c8962b975d22",
   "metadata": {},
   "source": [
    "## Preprocessing Data"
   ]
  },
  {
   "cell_type": "markdown",
   "id": "b97be674-ed85-4bfb-a262-c13c9c43c38a",
   "metadata": {},
   "source": [
    "### Exploring Categorical Features"
   ]
  },
  {
   "cell_type": "code",
   "execution_count": 40,
   "id": "a7b2c21f-47b7-4eed-b3aa-213df59791d2",
   "metadata": {},
   "outputs": [
    {
     "data": {
      "image/png": "[encoded data removed]",
      "text/plain": [
       "<Figure size 504x432 with 1 Axes>"
      ]
     },
     "metadata": {
      "needs_background": "light"
     },
     "output_type": "display_data"
    }
   ],
   "source": [
    "# Create a boxplot of life expectancy per region\n",
    "df_gapminder.boxplot(\"life\", \"Region\", rot=60, figsize=(7, 6));"
   ]
  },
  {
   "cell_type": "markdown",
   "id": "95321c34-f994-460e-9832-695ae1bf74af",
   "metadata": {},
   "source": [
    "### Creating Dummy Variables"
   ]
  },
  {
   "cell_type": "code",
   "execution_count": 41,
   "id": "7ae2017e-dd2e-422d-b098-0ad08daea6d6",
   "metadata": {},
   "outputs": [
    {
     "name": "stdout",
     "output_type": "stream",
     "text": [
      "Index(['population', 'fertility', 'HIV', 'CO2', 'BMI_male', 'GDP',\n",
      "       'BMI_female', 'life', 'child_mortality', 'Region_America',\n",
      "       'Region_East Asia & Pacific', 'Region_Europe & Central Asia',\n",
      "       'Region_Middle East & North Africa', 'Region_South Asia',\n",
      "       'Region_Sub-Saharan Africa'],\n",
      "      dtype='object')\n",
      "Index(['population', 'fertility', 'HIV', 'CO2', 'BMI_male', 'GDP',\n",
      "       'BMI_female', 'life', 'child_mortality', 'Region_East Asia & Pacific',\n",
      "       'Region_Europe & Central Asia', 'Region_Middle East & North Africa',\n",
      "       'Region_South Asia', 'Region_Sub-Saharan Africa'],\n",
      "      dtype='object')\n"
     ]
    }
   ],
   "source": [
    "# Create dummy variables: df_region\n",
    "df_region = pd.get_dummies(df_gapminder)\n",
    "\n",
    "# Print the columns of df_region\n",
    "print(df_region.columns)\n",
    "\n",
    "# Create dummy variables with drop_first=True: df_region\n",
    "df_region = pd.get_dummies(df_gapminder, drop_first=True)\n",
    "\n",
    "# Print the new columns of df_region\n",
    "print(df_region.columns)"
   ]
  },
  {
   "cell_type": "markdown",
   "id": "8ec6b1a0-41c2-4916-86da-7367a06c53e4",
   "metadata": {},
   "source": [
    "### Regression with Categorical Features"
   ]
  },
  {
   "cell_type": "code",
   "execution_count": 42,
   "id": "f69d58d5-7b95-4b9b-8493-bd5a089a1ff9",
   "metadata": {},
   "outputs": [
    {
     "name": "stdout",
     "output_type": "stream",
     "text": [
      "[0.86808336 0.80623545 0.84004203 0.7754344  0.87503712]\n"
     ]
    }
   ],
   "source": [
    "# Instantiate a ridge regressor: ridge\n",
    "ridge = Ridge(alpha=0.5, normalize=True)\n",
    "\n",
    "# Perform 5-fold cross-validation: ridge_cv\n",
    "X = df_region.drop([\"life\"], axis=1)\n",
    "y = df_region[\"life\"]\n",
    "ridge_cv = cross_val_score(ridge, X, y, cv=5)\n",
    "\n",
    "# Print the cross-validated scores\n",
    "print(ridge_cv)"
   ]
  },
  {
   "cell_type": "markdown",
   "id": "c818a2c2-4406-4156-9e16-b3c3bed2c269",
   "metadata": {},
   "source": [
    "## Handling Missing Data"
   ]
  },
  {
   "cell_type": "markdown",
   "id": "d4671921-7a77-45e0-ab94-3b832f440ace",
   "metadata": {},
   "source": [
    "### Dropping Missing Data"
   ]
  },
  {
   "cell_type": "code",
   "execution_count": 51,
   "id": "4ce5a9e4-1dfa-4777-85d1-981957a683b4",
   "metadata": {},
   "outputs": [
    {
     "name": "stdout",
     "output_type": "stream",
     "text": [
      "party                  0\n",
      "infants               12\n",
      "water                 48\n",
      "budget                11\n",
      "physician             11\n",
      "salvador              15\n",
      "religious             11\n",
      "satellite             14\n",
      "aid                   15\n",
      "missile               22\n",
      "immigration            7\n",
      "synfuels              21\n",
      "education             31\n",
      "superfund             25\n",
      "crime                 17\n",
      "duty_free_exports     28\n",
      "eaa_rsa              104\n",
      "dtype: int64\n",
      "Shape of Original DataFrame: (435, 17)\n",
      "Shape of DataFrame After Dropping All Rows with Missing Values: (232, 17)\n"
     ]
    }
   ],
   "source": [
    "# Convert '?' to NaN\n",
    "df_voting[df_voting == \"?\"] = np.nan\n",
    "df_voting[df_voting == \"n\"] = 0\n",
    "df_voting[df_voting == \"y\"] = 1\n",
    "\n",
    "# Print the number of NaNs\n",
    "print(df_voting.isnull().sum())\n",
    "\n",
    "# Print shape of original DataFrame\n",
    "print(f\"Shape of Original DataFrame: {df_voting.shape}\")\n",
    "\n",
    "# Drop missing values and print shape of new DataFrame\n",
    "df_clean = df_voting.dropna()\n",
    "\n",
    "# Print shape of new DataFrame\n",
    "print(f\"Shape of DataFrame After Dropping All Rows with Missing Values: {df_clean.shape}\")"
   ]
  },
  {
   "cell_type": "markdown",
   "id": "19575898-c989-4081-ba2e-94577568db96",
   "metadata": {},
   "source": [
    "### Imputing Missing Data in a ML Pipeline I"
   ]
  },
  {
   "cell_type": "code",
   "execution_count": 52,
   "id": "28a224a9-500b-4565-8dd9-c22afb2b920c",
   "metadata": {},
   "outputs": [],
   "source": [
    "# Import the Imputer module\n",
    "from sklearn.impute import SimpleImputer\n",
    "from sklearn.svm import SVC\n",
    "\n",
    "# Setup the Imputation transformer: imp\n",
    "imp = SimpleImputer(strategy=\"most_frequent\")\n",
    "\n",
    "# Instantiate the SVC classifier: clf\n",
    "clf = SVC()\n",
    "\n",
    "# Setup the pipeline with the required steps: steps\n",
    "steps = [('imputation', imp),\n",
    "         ('SVM', clf)]"
   ]
  },
  {
   "cell_type": "markdown",
   "id": "6e9930e1-7eb3-4034-9a51-6586f4f72e4f",
   "metadata": {},
   "source": [
    "### Imputing Missing Data in a ML Pipeline II"
   ]
  },
  {
   "cell_type": "code",
   "execution_count": 53,
   "id": "a385fb5e-5437-47d0-b9a7-28d7b2bdc5c1",
   "metadata": {},
   "outputs": [
    {
     "name": "stdout",
     "output_type": "stream",
     "text": [
      "              precision    recall  f1-score   support\n",
      "\n",
      "    democrat       0.98      0.96      0.97        85\n",
      "  republican       0.94      0.96      0.95        46\n",
      "\n",
      "    accuracy                           0.96       131\n",
      "   macro avg       0.96      0.96      0.96       131\n",
      "weighted avg       0.96      0.96      0.96       131\n",
      "\n"
     ]
    }
   ],
   "source": [
    "# Import necessary modules\n",
    "from sklearn.pipeline import Pipeline\n",
    "\n",
    "# Create the pipeline: pipeline\n",
    "pipeline = Pipeline(steps)\n",
    "\n",
    "# Create training and test sets\n",
    "y = df_voting['party'].values\n",
    "X = df_voting.drop('party', axis=1).values\n",
    "X_train, X_test, y_train, y_test = train_test_split(X, y, test_size=0.3, random_state=42)\n",
    "\n",
    "# Fit the pipeline to the train set\n",
    "pipeline.fit(X_train, y_train)\n",
    "\n",
    "# Predict the labels of the test set\n",
    "y_pred = pipeline.predict(X_test)\n",
    "\n",
    "# Compute metrics\n",
    "print(classification_report(y_test, y_pred))"
   ]
  },
  {
   "cell_type": "markdown",
   "id": "0ed45cb7-4437-4844-bae5-f48f7889b045",
   "metadata": {},
   "source": [
    "## Centering and Scaling"
   ]
  },
  {
   "cell_type": "markdown",
   "id": "b63a12f2-671f-4532-b5e6-01e2b10e60b8",
   "metadata": {},
   "source": [
    "### Centering and Scaling your Data"
   ]
  },
  {
   "cell_type": "code",
   "execution_count": null,
   "id": "53fc8341-5093-43b1-b093-ee0701dedfd0",
   "metadata": {},
   "outputs": [],
   "source": []
  }
 ],
 "metadata": {
  "kernelspec": {
   "display_name": "Python 3 (ipykernel)",
   "language": "python",
   "name": "python3"
  },
  "language_info": {
   "codemirror_mode": {
    "name": "ipython",
    "version": 3
   },
   "file_extension": ".py",
   "mimetype": "text/x-python",
   "name": "python",
   "nbconvert_exporter": "python",
   "pygments_lexer": "ipython3",
   "version": "3.8.2"
  }
 },
 "nbformat": 4,
 "nbformat_minor": 5
}
